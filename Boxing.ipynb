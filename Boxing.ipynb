{
 "cells": [
  {
   "cell_type": "markdown",
   "metadata": {},
   "source": [
    "# Boxing competititon (binary classification)"
   ]
  },
  {
   "cell_type": "code",
   "execution_count": 1,
   "metadata": {},
   "outputs": [
    {
     "name": "stderr",
     "output_type": "stream",
     "text": [
      "/home/egor/anaconda2/lib/python2.7/site-packages/sklearn/cross_validation.py:41: DeprecationWarning: This module was deprecated in version 0.18 in favor of the model_selection module into which all the refactored classes and functions are moved. Also note that the interface of the new CV iterators are different from that of this module. This module will be removed in 0.20.\n",
      "  \"This module will be removed in 0.20.\", DeprecationWarning)\n"
     ]
    }
   ],
   "source": [
    "import pandas as pd\n",
    "import numpy as np\n",
    "import matplotlib.pyplot as plt\n",
    "import warnings\n",
    "from catboost import CatBoostClassifier, cv, Pool\n",
    "from xgboost import XGBRegressor\n",
    "from sklearn.metrics import accuracy_score\n",
    "from sklearn.model_selection import cross_val_score\n",
    "from lightgbm import LGBMClassifier\n",
    "from sklearn.linear_model import LogisticRegression\n",
    "from sklearn.model_selection import GridSearchCV, RandomizedSearchCV\n",
    "from sklearn.model_selection import train_test_split as split\n",
    "warnings.filterwarnings(action='once')\n",
    "from sklearn import preprocessing\n",
    "import lightgbm"
   ]
  },
  {
   "cell_type": "markdown",
   "metadata": {},
   "source": [
    "We have to solve a binary classification problen (if a fighter wins or not)"
   ]
  },
  {
   "cell_type": "code",
   "execution_count": 2,
   "metadata": {},
   "outputs": [],
   "source": [
    "df = pd.read_excel('data.xlsx', header=0)"
   ]
  },
  {
   "cell_type": "code",
   "execution_count": 3,
   "metadata": {},
   "outputs": [
    {
     "data": {
      "text/html": [
       "<div>\n",
       "<style>\n",
       "    .dataframe thead tr:only-child th {\n",
       "        text-align: right;\n",
       "    }\n",
       "\n",
       "    .dataframe thead th {\n",
       "        text-align: left;\n",
       "    }\n",
       "\n",
       "    .dataframe tbody tr th {\n",
       "        vertical-align: top;\n",
       "    }\n",
       "</style>\n",
       "<table border=\"1\" class=\"dataframe\">\n",
       "  <thead>\n",
       "    <tr style=\"text-align: right;\">\n",
       "      <th></th>\n",
       "      <th>Number</th>\n",
       "      <th>Date</th>\n",
       "      <th>fight_id</th>\n",
       "      <th>fighter_id</th>\n",
       "      <th>feature0</th>\n",
       "      <th>feature1</th>\n",
       "      <th>feature2</th>\n",
       "      <th>feature3</th>\n",
       "      <th>Wins</th>\n",
       "      <th>Losses</th>\n",
       "      <th>...</th>\n",
       "      <th>feature40</th>\n",
       "      <th>feature41</th>\n",
       "      <th>feature42</th>\n",
       "      <th>feature43</th>\n",
       "      <th>feature44</th>\n",
       "      <th>feature45</th>\n",
       "      <th>feature46</th>\n",
       "      <th>feature47</th>\n",
       "      <th>feature48</th>\n",
       "      <th>Winner Result</th>\n",
       "    </tr>\n",
       "  </thead>\n",
       "  <tbody>\n",
       "    <tr>\n",
       "      <th>0</th>\n",
       "      <td>1</td>\n",
       "      <td>2007-06-14</td>\n",
       "      <td>59289</td>\n",
       "      <td>19260</td>\n",
       "      <td>2557</td>\n",
       "      <td>1</td>\n",
       "      <td>1</td>\n",
       "      <td>25</td>\n",
       "      <td>8</td>\n",
       "      <td>1</td>\n",
       "      <td>...</td>\n",
       "      <td>2.0000</td>\n",
       "      <td>20.3333</td>\n",
       "      <td>0.0000</td>\n",
       "      <td>20.6667</td>\n",
       "      <td>0.3333</td>\n",
       "      <td>108.6667</td>\n",
       "      <td>36.0000</td>\n",
       "      <td>2.0000</td>\n",
       "      <td>2.6667</td>\n",
       "      <td>1</td>\n",
       "    </tr>\n",
       "    <tr>\n",
       "      <th>1</th>\n",
       "      <td>2</td>\n",
       "      <td>2007-06-14</td>\n",
       "      <td>59289</td>\n",
       "      <td>19398</td>\n",
       "      <td>3520</td>\n",
       "      <td>0</td>\n",
       "      <td>0</td>\n",
       "      <td>38</td>\n",
       "      <td>8</td>\n",
       "      <td>3</td>\n",
       "      <td>...</td>\n",
       "      <td>NaN</td>\n",
       "      <td>NaN</td>\n",
       "      <td>NaN</td>\n",
       "      <td>NaN</td>\n",
       "      <td>NaN</td>\n",
       "      <td>NaN</td>\n",
       "      <td>NaN</td>\n",
       "      <td>NaN</td>\n",
       "      <td>NaN</td>\n",
       "      <td>0</td>\n",
       "    </tr>\n",
       "    <tr>\n",
       "      <th>2</th>\n",
       "      <td>3</td>\n",
       "      <td>2007-06-14</td>\n",
       "      <td>59291</td>\n",
       "      <td>7742</td>\n",
       "      <td>3360</td>\n",
       "      <td>1</td>\n",
       "      <td>2</td>\n",
       "      <td>28</td>\n",
       "      <td>12</td>\n",
       "      <td>4</td>\n",
       "      <td>...</td>\n",
       "      <td>7.5000</td>\n",
       "      <td>21.1667</td>\n",
       "      <td>0.8333</td>\n",
       "      <td>24.6667</td>\n",
       "      <td>0.3333</td>\n",
       "      <td>174.3333</td>\n",
       "      <td>70.1667</td>\n",
       "      <td>0.1667</td>\n",
       "      <td>0.6667</td>\n",
       "      <td>0</td>\n",
       "    </tr>\n",
       "    <tr>\n",
       "      <th>3</th>\n",
       "      <td>4</td>\n",
       "      <td>2007-06-14</td>\n",
       "      <td>59291</td>\n",
       "      <td>11285</td>\n",
       "      <td>11029</td>\n",
       "      <td>3</td>\n",
       "      <td>2</td>\n",
       "      <td>26</td>\n",
       "      <td>20</td>\n",
       "      <td>6</td>\n",
       "      <td>...</td>\n",
       "      <td>1.0000</td>\n",
       "      <td>2.6000</td>\n",
       "      <td>0.2000</td>\n",
       "      <td>3.2000</td>\n",
       "      <td>0.0000</td>\n",
       "      <td>17.4000</td>\n",
       "      <td>29.4000</td>\n",
       "      <td>6.4000</td>\n",
       "      <td>9.6000</td>\n",
       "      <td>1</td>\n",
       "    </tr>\n",
       "    <tr>\n",
       "      <th>4</th>\n",
       "      <td>5</td>\n",
       "      <td>2007-06-14</td>\n",
       "      <td>59292</td>\n",
       "      <td>14615</td>\n",
       "      <td>14148</td>\n",
       "      <td>1</td>\n",
       "      <td>1</td>\n",
       "      <td>25</td>\n",
       "      <td>21</td>\n",
       "      <td>7</td>\n",
       "      <td>...</td>\n",
       "      <td>3.2667</td>\n",
       "      <td>13.3333</td>\n",
       "      <td>0.8000</td>\n",
       "      <td>14.7333</td>\n",
       "      <td>0.0000</td>\n",
       "      <td>103.0000</td>\n",
       "      <td>36.7500</td>\n",
       "      <td>5.8667</td>\n",
       "      <td>10.8667</td>\n",
       "      <td>0</td>\n",
       "    </tr>\n",
       "  </tbody>\n",
       "</table>\n",
       "<p>5 rows × 62 columns</p>\n",
       "</div>"
      ],
      "text/plain": [
       "   Number        Date  fight_id  fighter_id  feature0  feature1  feature2  \\\n",
       "0       1  2007-06-14     59289       19260      2557         1         1   \n",
       "1       2  2007-06-14     59289       19398      3520         0         0   \n",
       "2       3  2007-06-14     59291        7742      3360         1         2   \n",
       "3       4  2007-06-14     59291       11285     11029         3         2   \n",
       "4       5  2007-06-14     59292       14615     14148         1         1   \n",
       "\n",
       "   feature3  Wins  Losses      ...        feature40  feature41  feature42  \\\n",
       "0        25     8       1      ...           2.0000    20.3333     0.0000   \n",
       "1        38     8       3      ...              NaN        NaN        NaN   \n",
       "2        28    12       4      ...           7.5000    21.1667     0.8333   \n",
       "3        26    20       6      ...           1.0000     2.6000     0.2000   \n",
       "4        25    21       7      ...           3.2667    13.3333     0.8000   \n",
       "\n",
       "   feature43  feature44  feature45  feature46  feature47  feature48  \\\n",
       "0    20.6667     0.3333   108.6667    36.0000     2.0000     2.6667   \n",
       "1        NaN        NaN        NaN        NaN        NaN        NaN   \n",
       "2    24.6667     0.3333   174.3333    70.1667     0.1667     0.6667   \n",
       "3     3.2000     0.0000    17.4000    29.4000     6.4000     9.6000   \n",
       "4    14.7333     0.0000   103.0000    36.7500     5.8667    10.8667   \n",
       "\n",
       "   Winner Result  \n",
       "0              1  \n",
       "1              0  \n",
       "2              0  \n",
       "3              1  \n",
       "4              0  \n",
       "\n",
       "[5 rows x 62 columns]"
      ]
     },
     "execution_count": 3,
     "metadata": {},
     "output_type": "execute_result"
    }
   ],
   "source": [
    "df.head()"
   ]
  },
  {
   "cell_type": "markdown",
   "metadata": {},
   "source": [
    "Let's split date on year and month"
   ]
  },
  {
   "cell_type": "code",
   "execution_count": 4,
   "metadata": {
    "scrolled": true
   },
   "outputs": [],
   "source": [
    "df['Date'] = df['Date'].apply(pd.to_datetime)\n",
    "df['Month'], df['Year'], df['Day'], df['day_of_week'] = df['Date'].dt.month, df['Date'].dt.year, df['Date'].dt.day, df['Date'].dt.dayofweek\n",
    "data = df.apply(lambda x: x.fillna('NaN') if x.dtype.kind == 'object' else x.fillna(0))\n",
    "result = data['Winner Result']\n",
    "data.drop(['Number', 'Date', 'Winner Result', 'fight_id'], axis=1, inplace=True)\n",
    "le = preprocessing.LabelEncoder()\n",
    "data['Stance'] = le.fit_transform(data['Stance'].astype(str))"
   ]
  },
  {
   "cell_type": "markdown",
   "metadata": {},
   "source": [
    "Let's use one-hot encoding for features which seem to be categorical (we will check how to treat these features later)"
   ]
  },
  {
   "cell_type": "markdown",
   "metadata": {},
   "source": [
    "one_hot1 = pd.get_dummies(data['Stance'])\n",
    "one_hot2 = pd.get_dummies(data['Weight Class'])\n",
    "data_enc = data.drop(['Weight Class', 'Stance'], axis=1)\n",
    "data_enc = data_enc.join([one_hot1, one_hot2])"
   ]
  },
  {
   "cell_type": "markdown",
   "metadata": {},
   "source": [
    "## Feature selection"
   ]
  },
  {
   "cell_type": "markdown",
   "metadata": {},
   "source": [
    "Let's use LGBMClassifier model for further feature selection"
   ]
  },
  {
   "cell_type": "code",
   "execution_count": 5,
   "metadata": {
    "scrolled": true
   },
   "outputs": [
    {
     "name": "stdout",
     "output_type": "stream",
     "text": [
      "CPU times: user 8.47 ms, sys: 19 µs, total: 8.49 ms\n",
      "Wall time: 7.81 ms\n"
     ]
    }
   ],
   "source": [
    "%%time\n",
    "features = [\n",
    "            'fighter_id', 'Wins', 'Losses', 'Draws',\n",
    "            'Weight Class', 'Stance', 'Odds', 'Opening odds',\n",
    "            'Month', 'Year', 'Day', 'day_of_week',\n",
    "            'feature0', 'feature1', 'feature2', 'feature3', 'feature4', 'feature5', 'feature6', 'feature6.1',\n",
    "            'feature7', 'feature8', 'feature9', 'feature10', 'feature11',\n",
    "            'feature12', 'feature13', 'feature14', 'feature15', 'feature16',\n",
    "            'feature17', 'feature18', 'feature19', 'feature20',\n",
    "            'feature21', 'feature22', 'feature23', 'feature24', 'feature25',\n",
    "            'feature26', 'feature27', 'feature28', 'feature29', 'feature30',\n",
    "            'feature31', 'feature32', 'feature33', 'feature34', 'feature35',\n",
    "            'feature36', 'feature37', 'feature38', 'feature39', 'feature40',\n",
    "            'feature41', 'feature42', 'feature43', 'feature44', 'feature45',\n",
    "            'feature46', 'feature47', 'feature48'\n",
    "           ]\n",
    "\n",
    "X_train, X_test, y_train, y_test = split(data[features], result, test_size=0.2, shuffle=True, random_state=42)"
   ]
  },
  {
   "cell_type": "code",
   "execution_count": 46,
   "metadata": {},
   "outputs": [
    {
     "name": "stderr",
     "output_type": "stream",
     "text": [
      "/home/egor/anaconda2/lib/python2.7/site-packages/lightgbm/engine.py:107: UserWarning: Found `early_stopping_round` in params. Will use it instead of argument\n",
      "  warnings.warn(\"Found `{}` in params. Will use it instead of argument\".format(alias))\n",
      "/home/egor/anaconda2/lib/python2.7/site-packages/lightgbm/basic.py:1042: UserWarning: categorical_feature in Dataset is overridden. New categorical_feature is [4, 5]\n",
      "  warnings.warn('categorical_feature in Dataset is overridden. New categorical_feature is {}'.format(sorted(list(categorical_feature))))\n"
     ]
    },
    {
     "ename": "ValueError",
     "evalue": "Length of feature_name(62) and num_feature(1661) don't match",
     "output_type": "error",
     "traceback": [
      "\u001b[0;31m---------------------------------------------------------------------------\u001b[0m",
      "\u001b[0;31mValueError\u001b[0m                                Traceback (most recent call last)",
      "\u001b[0;32m<ipython-input-46-c3716989058d>\u001b[0m in \u001b[0;36m<module>\u001b[0;34m()\u001b[0m\n\u001b[1;32m     36\u001b[0m         \u001b[0mfeature_name\u001b[0m\u001b[0;34m=\u001b[0m\u001b[0mfeatures\u001b[0m\u001b[0;34m,\u001b[0m\u001b[0;34m\u001b[0m\u001b[0m\n\u001b[1;32m     37\u001b[0m         \u001b[0mcategorical_feature\u001b[0m\u001b[0;34m=\u001b[0m\u001b[0;34m[\u001b[0m\u001b[0;36m4\u001b[0m\u001b[0;34m,\u001b[0m \u001b[0;36m5\u001b[0m\u001b[0;34m]\u001b[0m\u001b[0;34m,\u001b[0m\u001b[0;34m\u001b[0m\u001b[0m\n\u001b[0;32m---> 38\u001b[0;31m         callbacks=None)\n\u001b[0m\u001b[1;32m     39\u001b[0m \u001b[0;34m\u001b[0m\u001b[0m\n\u001b[1;32m     40\u001b[0m \u001b[0;32mprint\u001b[0m\u001b[0;34m(\u001b[0m\u001b[0maccuracy_score\u001b[0m\u001b[0;34m(\u001b[0m\u001b[0my_train\u001b[0m\u001b[0;34m,\u001b[0m \u001b[0mlgb\u001b[0m\u001b[0;34m.\u001b[0m\u001b[0mpredict\u001b[0m\u001b[0;34m(\u001b[0m\u001b[0mX_train\u001b[0m\u001b[0;34m)\u001b[0m\u001b[0;34m)\u001b[0m\u001b[0;34m,\u001b[0m \u001b[0maccuracy_score\u001b[0m\u001b[0;34m(\u001b[0m\u001b[0my_test\u001b[0m\u001b[0;34m,\u001b[0m \u001b[0mlgb\u001b[0m\u001b[0;34m.\u001b[0m\u001b[0mpredict\u001b[0m\u001b[0;34m(\u001b[0m\u001b[0mX_test\u001b[0m\u001b[0;34m)\u001b[0m\u001b[0;34m)\u001b[0m\u001b[0;34m)\u001b[0m\u001b[0;34m\u001b[0m\u001b[0m\n",
      "\u001b[0;32m/home/egor/anaconda2/lib/python2.7/site-packages/lightgbm/sklearn.pyc\u001b[0m in \u001b[0;36mfit\u001b[0;34m(self, X, y, sample_weight, init_score, eval_set, eval_names, eval_sample_weight, eval_class_weight, eval_init_score, eval_metric, early_stopping_rounds, verbose, feature_name, categorical_feature, callbacks)\u001b[0m\n\u001b[1;32m    693\u001b[0m                                         \u001b[0mverbose\u001b[0m\u001b[0;34m=\u001b[0m\u001b[0mverbose\u001b[0m\u001b[0;34m,\u001b[0m \u001b[0mfeature_name\u001b[0m\u001b[0;34m=\u001b[0m\u001b[0mfeature_name\u001b[0m\u001b[0;34m,\u001b[0m\u001b[0;34m\u001b[0m\u001b[0m\n\u001b[1;32m    694\u001b[0m                                         \u001b[0mcategorical_feature\u001b[0m\u001b[0;34m=\u001b[0m\u001b[0mcategorical_feature\u001b[0m\u001b[0;34m,\u001b[0m\u001b[0;34m\u001b[0m\u001b[0m\n\u001b[0;32m--> 695\u001b[0;31m                                         callbacks=callbacks)\n\u001b[0m\u001b[1;32m    696\u001b[0m         \u001b[0;32mreturn\u001b[0m \u001b[0mself\u001b[0m\u001b[0;34m\u001b[0m\u001b[0m\n\u001b[1;32m    697\u001b[0m \u001b[0;34m\u001b[0m\u001b[0m\n",
      "\u001b[0;32m/home/egor/anaconda2/lib/python2.7/site-packages/lightgbm/sklearn.pyc\u001b[0m in \u001b[0;36mfit\u001b[0;34m(self, X, y, sample_weight, init_score, group, eval_set, eval_names, eval_sample_weight, eval_class_weight, eval_init_score, eval_group, eval_metric, early_stopping_rounds, verbose, feature_name, categorical_feature, callbacks)\u001b[0m\n\u001b[1;32m    472\u001b[0m                               \u001b[0mverbose_eval\u001b[0m\u001b[0;34m=\u001b[0m\u001b[0mverbose\u001b[0m\u001b[0;34m,\u001b[0m \u001b[0mfeature_name\u001b[0m\u001b[0;34m=\u001b[0m\u001b[0mfeature_name\u001b[0m\u001b[0;34m,\u001b[0m\u001b[0;34m\u001b[0m\u001b[0m\n\u001b[1;32m    473\u001b[0m                               \u001b[0mcategorical_feature\u001b[0m\u001b[0;34m=\u001b[0m\u001b[0mcategorical_feature\u001b[0m\u001b[0;34m,\u001b[0m\u001b[0;34m\u001b[0m\u001b[0m\n\u001b[0;32m--> 474\u001b[0;31m                               callbacks=callbacks)\n\u001b[0m\u001b[1;32m    475\u001b[0m \u001b[0;34m\u001b[0m\u001b[0m\n\u001b[1;32m    476\u001b[0m         \u001b[0;32mif\u001b[0m \u001b[0mevals_result\u001b[0m\u001b[0;34m:\u001b[0m\u001b[0;34m\u001b[0m\u001b[0m\n",
      "\u001b[0;32m/home/egor/anaconda2/lib/python2.7/site-packages/lightgbm/engine.pyc\u001b[0m in \u001b[0;36mtrain\u001b[0;34m(params, train_set, num_boost_round, valid_sets, valid_names, fobj, feval, init_model, feature_name, categorical_feature, early_stopping_rounds, evals_result, verbose_eval, learning_rates, keep_training_booster, callbacks)\u001b[0m\n\u001b[1;32m    181\u001b[0m     \u001b[0;31m# construct booster\u001b[0m\u001b[0;34m\u001b[0m\u001b[0;34m\u001b[0m\u001b[0m\n\u001b[1;32m    182\u001b[0m     \u001b[0;32mtry\u001b[0m\u001b[0;34m:\u001b[0m\u001b[0;34m\u001b[0m\u001b[0m\n\u001b[0;32m--> 183\u001b[0;31m         \u001b[0mbooster\u001b[0m \u001b[0;34m=\u001b[0m \u001b[0mBooster\u001b[0m\u001b[0;34m(\u001b[0m\u001b[0mparams\u001b[0m\u001b[0;34m=\u001b[0m\u001b[0mparams\u001b[0m\u001b[0;34m,\u001b[0m \u001b[0mtrain_set\u001b[0m\u001b[0;34m=\u001b[0m\u001b[0mtrain_set\u001b[0m\u001b[0;34m)\u001b[0m\u001b[0;34m\u001b[0m\u001b[0m\n\u001b[0m\u001b[1;32m    184\u001b[0m         \u001b[0;32mif\u001b[0m \u001b[0mis_valid_contain_train\u001b[0m\u001b[0;34m:\u001b[0m\u001b[0;34m\u001b[0m\u001b[0m\n\u001b[1;32m    185\u001b[0m             \u001b[0mbooster\u001b[0m\u001b[0;34m.\u001b[0m\u001b[0mset_train_data_name\u001b[0m\u001b[0;34m(\u001b[0m\u001b[0mtrain_data_name\u001b[0m\u001b[0;34m)\u001b[0m\u001b[0;34m\u001b[0m\u001b[0m\n",
      "\u001b[0;32m/home/egor/anaconda2/lib/python2.7/site-packages/lightgbm/basic.pyc\u001b[0m in \u001b[0;36m__init__\u001b[0;34m(self, params, train_set, model_file, silent)\u001b[0m\n\u001b[1;32m   1305\u001b[0m             \u001b[0mself\u001b[0m\u001b[0;34m.\u001b[0m\u001b[0mhandle\u001b[0m \u001b[0;34m=\u001b[0m \u001b[0mctypes\u001b[0m\u001b[0;34m.\u001b[0m\u001b[0mc_void_p\u001b[0m\u001b[0;34m(\u001b[0m\u001b[0;34m)\u001b[0m\u001b[0;34m\u001b[0m\u001b[0m\n\u001b[1;32m   1306\u001b[0m             _safe_call(_LIB.LGBM_BoosterCreate(\n\u001b[0;32m-> 1307\u001b[0;31m                 \u001b[0mtrain_set\u001b[0m\u001b[0;34m.\u001b[0m\u001b[0mconstruct\u001b[0m\u001b[0;34m(\u001b[0m\u001b[0;34m)\u001b[0m\u001b[0;34m.\u001b[0m\u001b[0mhandle\u001b[0m\u001b[0;34m,\u001b[0m\u001b[0;34m\u001b[0m\u001b[0m\n\u001b[0m\u001b[1;32m   1308\u001b[0m                 \u001b[0mc_str\u001b[0m\u001b[0;34m(\u001b[0m\u001b[0mparams_str\u001b[0m\u001b[0;34m)\u001b[0m\u001b[0;34m,\u001b[0m\u001b[0;34m\u001b[0m\u001b[0m\n\u001b[1;32m   1309\u001b[0m                 ctypes.byref(self.handle)))\n",
      "\u001b[0;32m/home/egor/anaconda2/lib/python2.7/site-packages/lightgbm/basic.pyc\u001b[0m in \u001b[0;36mconstruct\u001b[0;34m(self)\u001b[0m\n\u001b[1;32m    858\u001b[0m                                 \u001b[0mweight\u001b[0m\u001b[0;34m=\u001b[0m\u001b[0mself\u001b[0m\u001b[0;34m.\u001b[0m\u001b[0mweight\u001b[0m\u001b[0;34m,\u001b[0m \u001b[0mgroup\u001b[0m\u001b[0;34m=\u001b[0m\u001b[0mself\u001b[0m\u001b[0;34m.\u001b[0m\u001b[0mgroup\u001b[0m\u001b[0;34m,\u001b[0m \u001b[0minit_score\u001b[0m\u001b[0;34m=\u001b[0m\u001b[0mself\u001b[0m\u001b[0;34m.\u001b[0m\u001b[0minit_score\u001b[0m\u001b[0;34m,\u001b[0m\u001b[0;34m\u001b[0m\u001b[0m\n\u001b[1;32m    859\u001b[0m                                 \u001b[0mpredictor\u001b[0m\u001b[0;34m=\u001b[0m\u001b[0mself\u001b[0m\u001b[0;34m.\u001b[0m\u001b[0m_predictor\u001b[0m\u001b[0;34m,\u001b[0m \u001b[0msilent\u001b[0m\u001b[0;34m=\u001b[0m\u001b[0mself\u001b[0m\u001b[0;34m.\u001b[0m\u001b[0msilent\u001b[0m\u001b[0;34m,\u001b[0m \u001b[0mfeature_name\u001b[0m\u001b[0;34m=\u001b[0m\u001b[0mself\u001b[0m\u001b[0;34m.\u001b[0m\u001b[0mfeature_name\u001b[0m\u001b[0;34m,\u001b[0m\u001b[0;34m\u001b[0m\u001b[0m\n\u001b[0;32m--> 860\u001b[0;31m                                 categorical_feature=self.categorical_feature, params=self.params)\n\u001b[0m\u001b[1;32m    861\u001b[0m             \u001b[0;32mif\u001b[0m \u001b[0mself\u001b[0m\u001b[0;34m.\u001b[0m\u001b[0mfree_raw_data\u001b[0m\u001b[0;34m:\u001b[0m\u001b[0;34m\u001b[0m\u001b[0m\n\u001b[1;32m    862\u001b[0m                 \u001b[0mself\u001b[0m\u001b[0;34m.\u001b[0m\u001b[0mdata\u001b[0m \u001b[0;34m=\u001b[0m \u001b[0mNone\u001b[0m\u001b[0;34m\u001b[0m\u001b[0m\n",
      "\u001b[0;32m/home/egor/anaconda2/lib/python2.7/site-packages/lightgbm/basic.pyc\u001b[0m in \u001b[0;36m_lazy_init\u001b[0;34m(self, data, label, reference, weight, group, init_score, predictor, silent, feature_name, categorical_feature, params)\u001b[0m\n\u001b[1;32m    749\u001b[0m             \u001b[0;32mraise\u001b[0m \u001b[0mTypeError\u001b[0m\u001b[0;34m(\u001b[0m\u001b[0;34m'wrong predictor type {}'\u001b[0m\u001b[0;34m.\u001b[0m\u001b[0mformat\u001b[0m\u001b[0;34m(\u001b[0m\u001b[0mtype\u001b[0m\u001b[0;34m(\u001b[0m\u001b[0mself\u001b[0m\u001b[0;34m.\u001b[0m\u001b[0mpredictor\u001b[0m\u001b[0;34m)\u001b[0m\u001b[0;34m.\u001b[0m\u001b[0m__name__\u001b[0m\u001b[0;34m)\u001b[0m\u001b[0;34m)\u001b[0m\u001b[0;34m\u001b[0m\u001b[0m\n\u001b[1;32m    750\u001b[0m         \u001b[0;31m# set feature names\u001b[0m\u001b[0;34m\u001b[0m\u001b[0;34m\u001b[0m\u001b[0m\n\u001b[0;32m--> 751\u001b[0;31m         \u001b[0mself\u001b[0m\u001b[0;34m.\u001b[0m\u001b[0mset_feature_name\u001b[0m\u001b[0;34m(\u001b[0m\u001b[0mfeature_name\u001b[0m\u001b[0;34m)\u001b[0m\u001b[0;34m\u001b[0m\u001b[0m\n\u001b[0m\u001b[1;32m    752\u001b[0m \u001b[0;34m\u001b[0m\u001b[0m\n\u001b[1;32m    753\u001b[0m     \u001b[0;32mdef\u001b[0m \u001b[0m__init_from_np2d\u001b[0m\u001b[0;34m(\u001b[0m\u001b[0mself\u001b[0m\u001b[0;34m,\u001b[0m \u001b[0mmat\u001b[0m\u001b[0;34m,\u001b[0m \u001b[0mparams_str\u001b[0m\u001b[0;34m,\u001b[0m \u001b[0mref_dataset\u001b[0m\u001b[0;34m)\u001b[0m\u001b[0;34m:\u001b[0m\u001b[0;34m\u001b[0m\u001b[0m\n",
      "\u001b[0;32m/home/egor/anaconda2/lib/python2.7/site-packages/lightgbm/basic.pyc\u001b[0m in \u001b[0;36mset_feature_name\u001b[0;34m(self, feature_name)\u001b[0m\n\u001b[1;32m   1091\u001b[0m         \u001b[0;32mif\u001b[0m \u001b[0mself\u001b[0m\u001b[0;34m.\u001b[0m\u001b[0mhandle\u001b[0m \u001b[0;32mis\u001b[0m \u001b[0;32mnot\u001b[0m \u001b[0mNone\u001b[0m \u001b[0;32mand\u001b[0m \u001b[0mfeature_name\u001b[0m \u001b[0;32mis\u001b[0m \u001b[0;32mnot\u001b[0m \u001b[0mNone\u001b[0m \u001b[0;32mand\u001b[0m \u001b[0mfeature_name\u001b[0m \u001b[0;34m!=\u001b[0m \u001b[0;34m'auto'\u001b[0m\u001b[0;34m:\u001b[0m\u001b[0;34m\u001b[0m\u001b[0m\n\u001b[1;32m   1092\u001b[0m             \u001b[0;32mif\u001b[0m \u001b[0mlen\u001b[0m\u001b[0;34m(\u001b[0m\u001b[0mfeature_name\u001b[0m\u001b[0;34m)\u001b[0m \u001b[0;34m!=\u001b[0m \u001b[0mself\u001b[0m\u001b[0;34m.\u001b[0m\u001b[0mnum_feature\u001b[0m\u001b[0;34m(\u001b[0m\u001b[0;34m)\u001b[0m\u001b[0;34m:\u001b[0m\u001b[0;34m\u001b[0m\u001b[0m\n\u001b[0;32m-> 1093\u001b[0;31m                 \u001b[0;32mraise\u001b[0m \u001b[0mValueError\u001b[0m\u001b[0;34m(\u001b[0m\u001b[0;34m\"Length of feature_name({}) and num_feature({}) don't match\"\u001b[0m\u001b[0;34m.\u001b[0m\u001b[0mformat\u001b[0m\u001b[0;34m(\u001b[0m\u001b[0mlen\u001b[0m\u001b[0;34m(\u001b[0m\u001b[0mfeature_name\u001b[0m\u001b[0;34m)\u001b[0m\u001b[0;34m,\u001b[0m \u001b[0mself\u001b[0m\u001b[0;34m.\u001b[0m\u001b[0mnum_feature\u001b[0m\u001b[0;34m(\u001b[0m\u001b[0;34m)\u001b[0m\u001b[0;34m)\u001b[0m\u001b[0;34m)\u001b[0m\u001b[0;34m\u001b[0m\u001b[0m\n\u001b[0m\u001b[1;32m   1094\u001b[0m             \u001b[0mc_feature_name\u001b[0m \u001b[0;34m=\u001b[0m \u001b[0;34m[\u001b[0m\u001b[0mc_str\u001b[0m\u001b[0;34m(\u001b[0m\u001b[0mname\u001b[0m\u001b[0;34m)\u001b[0m \u001b[0;32mfor\u001b[0m \u001b[0mname\u001b[0m \u001b[0;32min\u001b[0m \u001b[0mfeature_name\u001b[0m\u001b[0;34m]\u001b[0m\u001b[0;34m\u001b[0m\u001b[0m\n\u001b[1;32m   1095\u001b[0m             _safe_call(_LIB.LGBM_DatasetSetFeatureNames(\n",
      "\u001b[0;31mValueError\u001b[0m: Length of feature_name(62) and num_feature(1661) don't match"
     ]
    }
   ],
   "source": [
    "lgb = LGBMClassifier(boosting_type='gbdt',\n",
    "                     num_leaves=11,\n",
    "                     max_depth=4,\n",
    "                     learning_rate=0.1,\n",
    "                     n_estimators=1000,\n",
    "                     subsample_for_bin=20000,\n",
    "                     objective=None,\n",
    "                     class_weight=None,\n",
    "                     min_split_gain=0.0,\n",
    "                     min_child_weight=0.001,\n",
    "                     min_child_samples=20,\n",
    "                     subsample=.75,\n",
    "                     subsample_freq=1,\n",
    "                     colsample_bytree=1.0,\n",
    "                     reg_alpha=0.0,\n",
    "                     reg_lambda=0.0,\n",
    "                     random_state=0,\n",
    "                     n_jobs=-1,\n",
    "                     silent=True,\n",
    "                     feature_fraction=.75,\n",
    "                     begging_fraction=.75,\n",
    "                     begging_freq=1,\n",
    "                     early_stopping_round=100)\n",
    "\n",
    "lgb.fit(X_train, y_train,\n",
    "        sample_weight=None,\n",
    "        init_score=None,\n",
    "        eval_set=(X_test, y_test),\n",
    "        eval_names=None,\n",
    "        eval_sample_weight=None,\n",
    "        eval_class_weight=None,\n",
    "        eval_init_score=None,\n",
    "        eval_metric='logloss',\n",
    "        early_stopping_rounds=None,\n",
    "        verbose=True,\n",
    "        feature_name=features,\n",
    "        categorical_feature=[4, 5],\n",
    "        callbacks=None)\n",
    "\n",
    "print(accuracy_score(y_train, lgb.predict(X_train)), accuracy_score(y_test, lgb.predict(X_test)))\n"
   ]
  },
  {
   "cell_type": "code",
   "execution_count": 10,
   "metadata": {},
   "outputs": [
    {
     "ename": "KeyboardInterrupt",
     "evalue": "",
     "output_type": "error",
     "traceback": [
      "\u001b[0;31m---------------------------------------------------------------------------\u001b[0m",
      "\u001b[0;31mKeyboardInterrupt\u001b[0m                         Traceback (most recent call last)",
      "\u001b[0;32m<ipython-input-10-190347db2955>\u001b[0m in \u001b[0;36m<module>\u001b[0;34m()\u001b[0m\n\u001b[0;32m----> 1\u001b[0;31m \u001b[0mget_ipython\u001b[0m\u001b[0;34m(\u001b[0m\u001b[0;34m)\u001b[0m\u001b[0;34m.\u001b[0m\u001b[0mrun_cell_magic\u001b[0m\u001b[0;34m(\u001b[0m\u001b[0;34mu'time'\u001b[0m\u001b[0;34m,\u001b[0m \u001b[0;34mu''\u001b[0m\u001b[0;34m,\u001b[0m \u001b[0;34mu\"features_to_add = data.drop([ 'fighter_id', 'Wins', 'Losses', 'Draws',\\n            'Weight Class', 'Stance', 'Odds'], axis=1).columns\\n\\ndata_test = data[['fighter_id', 'Wins', 'Losses', 'Draws',\\n'Weight Class', 'Stance', 'Odds']]\\nfeatures_results = []\\nlgb = LGBMClassifier(boosting_type='gbdt',\\n                     num_leaves=11,\\n                     max_depth=4,\\n                     learning_rate=0.1,\\n                     n_estimators=1000,\\n                     subsample_for_bin=20000)\\nfor feature in features_to_add:\\n    features_results.append(np.mean(cross_val_score(lgb, data_test, result, cv=5, n_jobs=2)))\\n    data_test[feature] = data[feature]\"\u001b[0m\u001b[0;34m)\u001b[0m\u001b[0;34m\u001b[0m\u001b[0m\n\u001b[0m",
      "\u001b[0;32m/home/egor/anaconda2/lib/python2.7/site-packages/IPython/core/interactiveshell.pyc\u001b[0m in \u001b[0;36mrun_cell_magic\u001b[0;34m(self, magic_name, line, cell)\u001b[0m\n\u001b[1;32m   2115\u001b[0m             \u001b[0mmagic_arg_s\u001b[0m \u001b[0;34m=\u001b[0m \u001b[0mself\u001b[0m\u001b[0;34m.\u001b[0m\u001b[0mvar_expand\u001b[0m\u001b[0;34m(\u001b[0m\u001b[0mline\u001b[0m\u001b[0;34m,\u001b[0m \u001b[0mstack_depth\u001b[0m\u001b[0;34m)\u001b[0m\u001b[0;34m\u001b[0m\u001b[0m\n\u001b[1;32m   2116\u001b[0m             \u001b[0;32mwith\u001b[0m \u001b[0mself\u001b[0m\u001b[0;34m.\u001b[0m\u001b[0mbuiltin_trap\u001b[0m\u001b[0;34m:\u001b[0m\u001b[0;34m\u001b[0m\u001b[0m\n\u001b[0;32m-> 2117\u001b[0;31m                 \u001b[0mresult\u001b[0m \u001b[0;34m=\u001b[0m \u001b[0mfn\u001b[0m\u001b[0;34m(\u001b[0m\u001b[0mmagic_arg_s\u001b[0m\u001b[0;34m,\u001b[0m \u001b[0mcell\u001b[0m\u001b[0;34m)\u001b[0m\u001b[0;34m\u001b[0m\u001b[0m\n\u001b[0m\u001b[1;32m   2118\u001b[0m             \u001b[0;32mreturn\u001b[0m \u001b[0mresult\u001b[0m\u001b[0;34m\u001b[0m\u001b[0m\n\u001b[1;32m   2119\u001b[0m \u001b[0;34m\u001b[0m\u001b[0m\n",
      "\u001b[0;32m<decorator-gen-60>\u001b[0m in \u001b[0;36mtime\u001b[0;34m(self, line, cell, local_ns)\u001b[0m\n",
      "\u001b[0;32m/home/egor/anaconda2/lib/python2.7/site-packages/IPython/core/magic.pyc\u001b[0m in \u001b[0;36m<lambda>\u001b[0;34m(f, *a, **k)\u001b[0m\n\u001b[1;32m    186\u001b[0m     \u001b[0;31m# but it's overkill for just that one bit of state.\u001b[0m\u001b[0;34m\u001b[0m\u001b[0;34m\u001b[0m\u001b[0m\n\u001b[1;32m    187\u001b[0m     \u001b[0;32mdef\u001b[0m \u001b[0mmagic_deco\u001b[0m\u001b[0;34m(\u001b[0m\u001b[0marg\u001b[0m\u001b[0;34m)\u001b[0m\u001b[0;34m:\u001b[0m\u001b[0;34m\u001b[0m\u001b[0m\n\u001b[0;32m--> 188\u001b[0;31m         \u001b[0mcall\u001b[0m \u001b[0;34m=\u001b[0m \u001b[0;32mlambda\u001b[0m \u001b[0mf\u001b[0m\u001b[0;34m,\u001b[0m \u001b[0;34m*\u001b[0m\u001b[0ma\u001b[0m\u001b[0;34m,\u001b[0m \u001b[0;34m**\u001b[0m\u001b[0mk\u001b[0m\u001b[0;34m:\u001b[0m \u001b[0mf\u001b[0m\u001b[0;34m(\u001b[0m\u001b[0;34m*\u001b[0m\u001b[0ma\u001b[0m\u001b[0;34m,\u001b[0m \u001b[0;34m**\u001b[0m\u001b[0mk\u001b[0m\u001b[0;34m)\u001b[0m\u001b[0;34m\u001b[0m\u001b[0m\n\u001b[0m\u001b[1;32m    189\u001b[0m \u001b[0;34m\u001b[0m\u001b[0m\n\u001b[1;32m    190\u001b[0m         \u001b[0;32mif\u001b[0m \u001b[0mcallable\u001b[0m\u001b[0;34m(\u001b[0m\u001b[0marg\u001b[0m\u001b[0;34m)\u001b[0m\u001b[0;34m:\u001b[0m\u001b[0;34m\u001b[0m\u001b[0m\n",
      "\u001b[0;32m/home/egor/anaconda2/lib/python2.7/site-packages/IPython/core/magics/execution.pyc\u001b[0m in \u001b[0;36mtime\u001b[0;34m(self, line, cell, local_ns)\u001b[0m\n\u001b[1;32m   1191\u001b[0m         \u001b[0;32melse\u001b[0m\u001b[0;34m:\u001b[0m\u001b[0;34m\u001b[0m\u001b[0m\n\u001b[1;32m   1192\u001b[0m             \u001b[0mst\u001b[0m \u001b[0;34m=\u001b[0m \u001b[0mclock2\u001b[0m\u001b[0;34m(\u001b[0m\u001b[0;34m)\u001b[0m\u001b[0;34m\u001b[0m\u001b[0m\n\u001b[0;32m-> 1193\u001b[0;31m             \u001b[0;32mexec\u001b[0m\u001b[0;34m(\u001b[0m\u001b[0mcode\u001b[0m\u001b[0;34m,\u001b[0m \u001b[0mglob\u001b[0m\u001b[0;34m,\u001b[0m \u001b[0mlocal_ns\u001b[0m\u001b[0;34m)\u001b[0m\u001b[0;34m\u001b[0m\u001b[0m\n\u001b[0m\u001b[1;32m   1194\u001b[0m             \u001b[0mend\u001b[0m \u001b[0;34m=\u001b[0m \u001b[0mclock2\u001b[0m\u001b[0;34m(\u001b[0m\u001b[0;34m)\u001b[0m\u001b[0;34m\u001b[0m\u001b[0m\n\u001b[1;32m   1195\u001b[0m             \u001b[0mout\u001b[0m \u001b[0;34m=\u001b[0m \u001b[0mNone\u001b[0m\u001b[0;34m\u001b[0m\u001b[0m\n",
      "\u001b[0;32m<timed exec>\u001b[0m in \u001b[0;36m<module>\u001b[0;34m()\u001b[0m\n",
      "\u001b[0;32m/home/egor/anaconda2/lib/python2.7/site-packages/sklearn/model_selection/_validation.pyc\u001b[0m in \u001b[0;36mcross_val_score\u001b[0;34m(estimator, X, y, groups, scoring, cv, n_jobs, verbose, fit_params, pre_dispatch)\u001b[0m\n\u001b[1;32m    319\u001b[0m                                 \u001b[0mn_jobs\u001b[0m\u001b[0;34m=\u001b[0m\u001b[0mn_jobs\u001b[0m\u001b[0;34m,\u001b[0m \u001b[0mverbose\u001b[0m\u001b[0;34m=\u001b[0m\u001b[0mverbose\u001b[0m\u001b[0;34m,\u001b[0m\u001b[0;34m\u001b[0m\u001b[0m\n\u001b[1;32m    320\u001b[0m                                 \u001b[0mfit_params\u001b[0m\u001b[0;34m=\u001b[0m\u001b[0mfit_params\u001b[0m\u001b[0;34m,\u001b[0m\u001b[0;34m\u001b[0m\u001b[0m\n\u001b[0;32m--> 321\u001b[0;31m                                 pre_dispatch=pre_dispatch)\n\u001b[0m\u001b[1;32m    322\u001b[0m     \u001b[0;32mreturn\u001b[0m \u001b[0mcv_results\u001b[0m\u001b[0;34m[\u001b[0m\u001b[0;34m'test_score'\u001b[0m\u001b[0;34m]\u001b[0m\u001b[0;34m\u001b[0m\u001b[0m\n\u001b[1;32m    323\u001b[0m \u001b[0;34m\u001b[0m\u001b[0m\n",
      "\u001b[0;32m/home/egor/anaconda2/lib/python2.7/site-packages/sklearn/model_selection/_validation.pyc\u001b[0m in \u001b[0;36mcross_validate\u001b[0;34m(estimator, X, y, groups, scoring, cv, n_jobs, verbose, fit_params, pre_dispatch, return_train_score)\u001b[0m\n\u001b[1;32m    193\u001b[0m             \u001b[0mfit_params\u001b[0m\u001b[0;34m,\u001b[0m \u001b[0mreturn_train_score\u001b[0m\u001b[0;34m=\u001b[0m\u001b[0mreturn_train_score\u001b[0m\u001b[0;34m,\u001b[0m\u001b[0;34m\u001b[0m\u001b[0m\n\u001b[1;32m    194\u001b[0m             return_times=True)\n\u001b[0;32m--> 195\u001b[0;31m         for train, test in cv.split(X, y, groups))\n\u001b[0m\u001b[1;32m    196\u001b[0m \u001b[0;34m\u001b[0m\u001b[0m\n\u001b[1;32m    197\u001b[0m     \u001b[0;32mif\u001b[0m \u001b[0mreturn_train_score\u001b[0m\u001b[0;34m:\u001b[0m\u001b[0;34m\u001b[0m\u001b[0m\n",
      "\u001b[0;32m/home/egor/anaconda2/lib/python2.7/site-packages/sklearn/externals/joblib/parallel.pyc\u001b[0m in \u001b[0;36m__call__\u001b[0;34m(self, iterable)\u001b[0m\n\u001b[1;32m    787\u001b[0m                 \u001b[0;31m# consumption.\u001b[0m\u001b[0;34m\u001b[0m\u001b[0;34m\u001b[0m\u001b[0m\n\u001b[1;32m    788\u001b[0m                 \u001b[0mself\u001b[0m\u001b[0;34m.\u001b[0m\u001b[0m_iterating\u001b[0m \u001b[0;34m=\u001b[0m \u001b[0mFalse\u001b[0m\u001b[0;34m\u001b[0m\u001b[0m\n\u001b[0;32m--> 789\u001b[0;31m             \u001b[0mself\u001b[0m\u001b[0;34m.\u001b[0m\u001b[0mretrieve\u001b[0m\u001b[0;34m(\u001b[0m\u001b[0;34m)\u001b[0m\u001b[0;34m\u001b[0m\u001b[0m\n\u001b[0m\u001b[1;32m    790\u001b[0m             \u001b[0;31m# Make sure that we get a last message telling us we are done\u001b[0m\u001b[0;34m\u001b[0m\u001b[0;34m\u001b[0m\u001b[0m\n\u001b[1;32m    791\u001b[0m             \u001b[0melapsed_time\u001b[0m \u001b[0;34m=\u001b[0m \u001b[0mtime\u001b[0m\u001b[0;34m.\u001b[0m\u001b[0mtime\u001b[0m\u001b[0;34m(\u001b[0m\u001b[0;34m)\u001b[0m \u001b[0;34m-\u001b[0m \u001b[0mself\u001b[0m\u001b[0;34m.\u001b[0m\u001b[0m_start_time\u001b[0m\u001b[0;34m\u001b[0m\u001b[0m\n",
      "\u001b[0;32m/home/egor/anaconda2/lib/python2.7/site-packages/sklearn/externals/joblib/parallel.pyc\u001b[0m in \u001b[0;36mretrieve\u001b[0;34m(self)\u001b[0m\n\u001b[1;32m    697\u001b[0m             \u001b[0;32mtry\u001b[0m\u001b[0;34m:\u001b[0m\u001b[0;34m\u001b[0m\u001b[0m\n\u001b[1;32m    698\u001b[0m                 \u001b[0;32mif\u001b[0m \u001b[0mgetattr\u001b[0m\u001b[0;34m(\u001b[0m\u001b[0mself\u001b[0m\u001b[0;34m.\u001b[0m\u001b[0m_backend\u001b[0m\u001b[0;34m,\u001b[0m \u001b[0;34m'supports_timeout'\u001b[0m\u001b[0;34m,\u001b[0m \u001b[0mFalse\u001b[0m\u001b[0;34m)\u001b[0m\u001b[0;34m:\u001b[0m\u001b[0;34m\u001b[0m\u001b[0m\n\u001b[0;32m--> 699\u001b[0;31m                     \u001b[0mself\u001b[0m\u001b[0;34m.\u001b[0m\u001b[0m_output\u001b[0m\u001b[0;34m.\u001b[0m\u001b[0mextend\u001b[0m\u001b[0;34m(\u001b[0m\u001b[0mjob\u001b[0m\u001b[0;34m.\u001b[0m\u001b[0mget\u001b[0m\u001b[0;34m(\u001b[0m\u001b[0mtimeout\u001b[0m\u001b[0;34m=\u001b[0m\u001b[0mself\u001b[0m\u001b[0;34m.\u001b[0m\u001b[0mtimeout\u001b[0m\u001b[0;34m)\u001b[0m\u001b[0;34m)\u001b[0m\u001b[0;34m\u001b[0m\u001b[0m\n\u001b[0m\u001b[1;32m    700\u001b[0m                 \u001b[0;32melse\u001b[0m\u001b[0;34m:\u001b[0m\u001b[0;34m\u001b[0m\u001b[0m\n\u001b[1;32m    701\u001b[0m                     \u001b[0mself\u001b[0m\u001b[0;34m.\u001b[0m\u001b[0m_output\u001b[0m\u001b[0;34m.\u001b[0m\u001b[0mextend\u001b[0m\u001b[0;34m(\u001b[0m\u001b[0mjob\u001b[0m\u001b[0;34m.\u001b[0m\u001b[0mget\u001b[0m\u001b[0;34m(\u001b[0m\u001b[0;34m)\u001b[0m\u001b[0;34m)\u001b[0m\u001b[0;34m\u001b[0m\u001b[0m\n",
      "\u001b[0;32m/home/egor/anaconda2/lib/python2.7/multiprocessing/pool.pyc\u001b[0m in \u001b[0;36mget\u001b[0;34m(self, timeout)\u001b[0m\n\u001b[1;32m    564\u001b[0m \u001b[0;34m\u001b[0m\u001b[0m\n\u001b[1;32m    565\u001b[0m     \u001b[0;32mdef\u001b[0m \u001b[0mget\u001b[0m\u001b[0;34m(\u001b[0m\u001b[0mself\u001b[0m\u001b[0;34m,\u001b[0m \u001b[0mtimeout\u001b[0m\u001b[0;34m=\u001b[0m\u001b[0mNone\u001b[0m\u001b[0;34m)\u001b[0m\u001b[0;34m:\u001b[0m\u001b[0;34m\u001b[0m\u001b[0m\n\u001b[0;32m--> 566\u001b[0;31m         \u001b[0mself\u001b[0m\u001b[0;34m.\u001b[0m\u001b[0mwait\u001b[0m\u001b[0;34m(\u001b[0m\u001b[0mtimeout\u001b[0m\u001b[0;34m)\u001b[0m\u001b[0;34m\u001b[0m\u001b[0m\n\u001b[0m\u001b[1;32m    567\u001b[0m         \u001b[0;32mif\u001b[0m \u001b[0;32mnot\u001b[0m \u001b[0mself\u001b[0m\u001b[0;34m.\u001b[0m\u001b[0m_ready\u001b[0m\u001b[0;34m:\u001b[0m\u001b[0;34m\u001b[0m\u001b[0m\n\u001b[1;32m    568\u001b[0m             \u001b[0;32mraise\u001b[0m \u001b[0mTimeoutError\u001b[0m\u001b[0;34m\u001b[0m\u001b[0m\n",
      "\u001b[0;32m/home/egor/anaconda2/lib/python2.7/multiprocessing/pool.pyc\u001b[0m in \u001b[0;36mwait\u001b[0;34m(self, timeout)\u001b[0m\n\u001b[1;32m    559\u001b[0m         \u001b[0;32mtry\u001b[0m\u001b[0;34m:\u001b[0m\u001b[0;34m\u001b[0m\u001b[0m\n\u001b[1;32m    560\u001b[0m             \u001b[0;32mif\u001b[0m \u001b[0;32mnot\u001b[0m \u001b[0mself\u001b[0m\u001b[0;34m.\u001b[0m\u001b[0m_ready\u001b[0m\u001b[0;34m:\u001b[0m\u001b[0;34m\u001b[0m\u001b[0m\n\u001b[0;32m--> 561\u001b[0;31m                 \u001b[0mself\u001b[0m\u001b[0;34m.\u001b[0m\u001b[0m_cond\u001b[0m\u001b[0;34m.\u001b[0m\u001b[0mwait\u001b[0m\u001b[0;34m(\u001b[0m\u001b[0mtimeout\u001b[0m\u001b[0;34m)\u001b[0m\u001b[0;34m\u001b[0m\u001b[0m\n\u001b[0m\u001b[1;32m    562\u001b[0m         \u001b[0;32mfinally\u001b[0m\u001b[0;34m:\u001b[0m\u001b[0;34m\u001b[0m\u001b[0m\n\u001b[1;32m    563\u001b[0m             \u001b[0mself\u001b[0m\u001b[0;34m.\u001b[0m\u001b[0m_cond\u001b[0m\u001b[0;34m.\u001b[0m\u001b[0mrelease\u001b[0m\u001b[0;34m(\u001b[0m\u001b[0;34m)\u001b[0m\u001b[0;34m\u001b[0m\u001b[0m\n",
      "\u001b[0;32m/home/egor/anaconda2/lib/python2.7/threading.pyc\u001b[0m in \u001b[0;36mwait\u001b[0;34m(self, timeout)\u001b[0m\n\u001b[1;32m    338\u001b[0m         \u001b[0;32mtry\u001b[0m\u001b[0;34m:\u001b[0m    \u001b[0;31m# restore state no matter what (e.g., KeyboardInterrupt)\u001b[0m\u001b[0;34m\u001b[0m\u001b[0m\n\u001b[1;32m    339\u001b[0m             \u001b[0;32mif\u001b[0m \u001b[0mtimeout\u001b[0m \u001b[0;32mis\u001b[0m \u001b[0mNone\u001b[0m\u001b[0;34m:\u001b[0m\u001b[0;34m\u001b[0m\u001b[0m\n\u001b[0;32m--> 340\u001b[0;31m                 \u001b[0mwaiter\u001b[0m\u001b[0;34m.\u001b[0m\u001b[0macquire\u001b[0m\u001b[0;34m(\u001b[0m\u001b[0;34m)\u001b[0m\u001b[0;34m\u001b[0m\u001b[0m\n\u001b[0m\u001b[1;32m    341\u001b[0m                 \u001b[0;32mif\u001b[0m \u001b[0m__debug__\u001b[0m\u001b[0;34m:\u001b[0m\u001b[0;34m\u001b[0m\u001b[0m\n\u001b[1;32m    342\u001b[0m                     \u001b[0mself\u001b[0m\u001b[0;34m.\u001b[0m\u001b[0m_note\u001b[0m\u001b[0;34m(\u001b[0m\u001b[0;34m\"%s.wait(): got it\"\u001b[0m\u001b[0;34m,\u001b[0m \u001b[0mself\u001b[0m\u001b[0;34m)\u001b[0m\u001b[0;34m\u001b[0m\u001b[0m\n",
      "\u001b[0;31mKeyboardInterrupt\u001b[0m: "
     ]
    }
   ],
   "source": [
    "%%time\n",
    "features_to_add = data.drop([ 'fighter_id', 'Wins', 'Losses', 'Draws',\n",
    "            'Weight Class', 'Stance', 'Odds'], axis=1).columns\n",
    "\n",
    "data_test = data[['fighter_id', 'Wins', 'Losses', 'Draws',\n",
    "'Weight Class', 'Stance', 'Odds']]\n",
    "features_results = []\n",
    "lgb = LGBMClassifier(boosting_type='gbdt',\n",
    "                     num_leaves=11,\n",
    "                     max_depth=4,\n",
    "                     learning_rate=0.1,\n",
    "                     n_estimators=1000,\n",
    "                     subsample_for_bin=20000)\n",
    "for feature in features_to_add:\n",
    "    features_results.append(np.mean(cross_val_score(lgb, data_test, result, cv=5, n_jobs=2)))\n",
    "    data_test[feature] = data[feature]"
   ]
  },
  {
   "cell_type": "code",
   "execution_count": 59,
   "metadata": {},
   "outputs": [
    {
     "data": {
      "text/plain": [
       "Text(0.5,1,'Comparing different features in model')"
      ]
     },
     "execution_count": 59,
     "metadata": {},
     "output_type": "execute_result"
    },
    {
     "data": {
      "image/png": "[encoded data removed]",
      "text/plain": [
       "<Figure size 864x576 with 1 Axes>"
      ]
     },
     "metadata": {},
     "output_type": "display_data"
    }
   ],
   "source": [
    "fig, ax = plt.subplots(figsize=(12, 8))\n",
    "ax.plot(range(len(features_results)), features_results)\n",
    "ax.set_xlabel('feature index')\n",
    "ax.set_ylabel('accuracy score on CV')\n",
    "ax.set_title('Comparing different features in model')"
   ]
  },
  {
   "cell_type": "markdown",
   "metadata": {},
   "source": [
    "that there's some difference with features. Let's try to select the best features\n",
    "\n",
    "For tuning different features we can use models like random grid CV. Let's split our data on 2 parts to check the difference further"
   ]
  },
  {
   "cell_type": "markdown",
   "metadata": {},
   "source": [
    "Let's use greedy algorithm for tuning features\n",
    "\n",
    "1) Estimate features by its impact on model with static features\n",
    "\n",
    "2) Sort features by it's impact\n",
    "\n",
    "3) Add features to model by sorted list order\n",
    "\n",
    "4) Analyse results on graph\n",
    "\n",
    "5) Compare results with full-featured model"
   ]
  },
  {
   "cell_type": "code",
   "execution_count": 65,
   "metadata": {},
   "outputs": [
    {
     "data": {
      "text/plain": [
       "Index(['feature0', 'feature1', 'feature2', 'feature3', 'feature4', 'feature5',\n",
       "       'feature6', 'Opening odds', 'feature6.1', 'feature7', 'feature8',\n",
       "       'feature9', 'feature10', 'feature11', 'feature12', 'feature13',\n",
       "       'feature14', 'feature15', 'feature16', 'feature17', 'feature18',\n",
       "       'feature19', 'feature20', 'feature21', 'feature22', 'feature23',\n",
       "       'feature24', 'feature25', 'feature26', 'feature27', 'feature28',\n",
       "       'feature29', 'feature30', 'feature31', 'feature32', 'feature33',\n",
       "       'feature34', 'feature35', 'feature36', 'feature37', 'feature38',\n",
       "       'feature39', 'feature40', 'feature41', 'feature42', 'feature43',\n",
       "       'feature44', 'feature45', 'feature46', 'feature47', 'feature48',\n",
       "       'Month', 'Year', 'Day', 'day_of_week'],\n",
       "      dtype='object')"
      ]
     },
     "execution_count": 65,
     "metadata": {},
     "output_type": "execute_result"
    }
   ],
   "source": [
    "train_features"
   ]
  },
  {
   "cell_type": "code",
   "execution_count": 66,
   "metadata": {},
   "outputs": [
    {
     "name": "stdout",
     "output_type": "stream",
     "text": [
      "0.0014666666666667272\n",
      "feature1 - feature0\n",
      "0.6304000000000001 - 0.6289333333333333\n",
      "\n",
      "-0.0010666666666667712\n",
      "feature2 - feature1\n",
      "0.6293333333333333 - 0.6304000000000001\n",
      "\n",
      "-0.00013333333333331865\n",
      "feature3 - feature2\n",
      "0.6292 - 0.6293333333333333\n",
      "\n",
      "0.0033333333333332993\n",
      "feature4 - feature3\n",
      "0.6325333333333333 - 0.6292\n",
      "\n",
      "0.00040000000000006697\n",
      "feature5 - feature4\n",
      "0.6329333333333333 - 0.6325333333333333\n",
      "\n",
      "-0.0020000000000000018\n",
      "feature6 - feature5\n",
      "0.6309333333333333 - 0.6329333333333333\n",
      "\n",
      "-0.0018666666666666831\n",
      "Opening odds - feature6\n",
      "0.6290666666666667 - 0.6309333333333333\n",
      "\n",
      "0.002266666666666639\n",
      "feature6.1 - Opening odds\n",
      "0.6313333333333333 - 0.6290666666666667\n",
      "\n",
      "0.0014666666666666162\n",
      "feature7 - feature6.1\n",
      "0.6327999999999999 - 0.6313333333333333\n",
      "\n",
      "-0.0031999999999997586\n",
      "feature8 - feature7\n",
      "0.6296000000000002 - 0.6327999999999999\n",
      "\n",
      "0.004933333333333123\n",
      "feature9 - feature8\n",
      "0.6345333333333333 - 0.6296000000000002\n",
      "\n",
      "-0.0009333333333333416\n",
      "feature10 - feature9\n",
      "0.6335999999999999 - 0.6345333333333333\n",
      "\n",
      "-0.0011999999999999789\n",
      "feature11 - feature10\n",
      "0.6324 - 0.6335999999999999\n",
      "\n",
      "-0.004933333333333345\n",
      "feature12 - feature11\n",
      "0.6274666666666666 - 0.6324\n",
      "\n",
      "0.006133333333333435\n",
      "feature13 - feature12\n",
      "0.6336 - 0.6274666666666666\n",
      "\n",
      "-0.0037333333333333663\n",
      "feature14 - feature13\n",
      "0.6298666666666667 - 0.6336\n",
      "\n",
      "-0.002000000000000113\n",
      "feature15 - feature14\n",
      "0.6278666666666666 - 0.6298666666666667\n",
      "\n",
      "-0.0031999999999999806\n",
      "feature16 - feature15\n",
      "0.6246666666666666 - 0.6278666666666666\n",
      "\n",
      "0.007733333333333481\n",
      "feature17 - feature16\n",
      "0.6324000000000001 - 0.6246666666666666\n",
      "\n",
      "-0.0017333333333333645\n",
      "feature18 - feature17\n",
      "0.6306666666666667 - 0.6324000000000001\n",
      "\n",
      "0.00040000000000006697\n",
      "feature19 - feature18\n",
      "0.6310666666666668 - 0.6306666666666667\n",
      "\n",
      "-0.0024000000000001798\n",
      "feature20 - feature19\n",
      "0.6286666666666666 - 0.6310666666666668\n",
      "\n",
      "0.00226666666666675\n",
      "feature21 - feature20\n",
      "0.6309333333333333 - 0.6286666666666666\n",
      "\n",
      "-0.0002666666666667483\n",
      "feature22 - feature21\n",
      "0.6306666666666666 - 0.6309333333333333\n",
      "\n",
      "0.0008000000000000229\n",
      "feature23 - feature22\n",
      "0.6314666666666666 - 0.6306666666666666\n",
      "\n",
      "-0.0005333333333332746\n",
      "feature24 - feature23\n",
      "0.6309333333333333 - 0.6314666666666666\n",
      "\n",
      "0.0014666666666667272\n",
      "feature25 - feature24\n",
      "0.6324000000000001 - 0.6309333333333333\n",
      "\n",
      "0.0\n",
      "feature26 - feature25\n",
      "0.6324000000000001 - 0.6324000000000001\n",
      "\n",
      "0.0009333333333332305\n",
      "feature27 - feature26\n",
      "0.6333333333333333 - 0.6324000000000001\n",
      "\n",
      "0.0018666666666666831\n",
      "feature28 - feature27\n",
      "0.6352 - 0.6333333333333333\n",
      "\n",
      "-0.006399999999999961\n",
      "feature29 - feature28\n",
      "0.6288 - 0.6352\n",
      "\n",
      "-0.00026666666666685934\n",
      "feature30 - feature29\n",
      "0.6285333333333332 - 0.6288\n",
      "\n",
      "0.005466666666666842\n",
      "feature31 - feature30\n",
      "0.634 - 0.6285333333333332\n",
      "\n",
      "-0.0044000000000000705\n",
      "feature32 - feature31\n",
      "0.6295999999999999 - 0.634\n",
      "\n",
      "0.0012000000000000899\n",
      "feature33 - feature32\n",
      "0.6308 - 0.6295999999999999\n",
      "\n",
      "-0.00013333333333331865\n",
      "feature34 - feature33\n",
      "0.6306666666666667 - 0.6308\n",
      "\n",
      "0.004266666666666641\n",
      "feature35 - feature34\n",
      "0.6349333333333333 - 0.6306666666666667\n",
      "\n",
      "-0.0043999999999999595\n",
      "feature36 - feature35\n",
      "0.6305333333333334 - 0.6349333333333333\n",
      "\n",
      "-0.0018666666666667941\n",
      "feature37 - feature36\n",
      "0.6286666666666666 - 0.6305333333333334\n",
      "\n",
      "0.003866666666666685\n",
      "feature38 - feature37\n",
      "0.6325333333333333 - 0.6286666666666666\n",
      "\n",
      "-0.0009333333333333416\n",
      "feature39 - feature38\n",
      "0.6315999999999999 - 0.6325333333333333\n",
      "\n",
      "0.0011999999999999789\n",
      "feature40 - feature39\n",
      "0.6327999999999999 - 0.6315999999999999\n",
      "\n",
      "-0.0023999999999998467\n",
      "feature41 - feature40\n",
      "0.6304000000000001 - 0.6327999999999999\n",
      "\n",
      "-0.003466666666666729\n",
      "feature42 - feature41\n",
      "0.6269333333333333 - 0.6304000000000001\n",
      "\n",
      "0.0025333333333332764\n",
      "feature43 - feature42\n",
      "0.6294666666666666 - 0.6269333333333333\n",
      "\n",
      "-0.00039999999999995595\n",
      "feature44 - feature43\n",
      "0.6290666666666667 - 0.6294666666666666\n",
      "\n",
      "-0.0013333333333334085\n",
      "feature45 - feature44\n",
      "0.6277333333333333 - 0.6290666666666667\n",
      "\n",
      "0.004666666666666708\n",
      "feature46 - feature45\n",
      "0.6324 - 0.6277333333333333\n",
      "\n",
      "-0.003866666666666574\n",
      "feature47 - feature46\n",
      "0.6285333333333334 - 0.6324\n",
      "\n",
      "-0.0009333333333334526\n",
      "feature48 - feature47\n",
      "0.6275999999999999 - 0.6285333333333334\n",
      "\n",
      "0.0009333333333332305\n",
      "Month - feature48\n",
      "0.6285333333333332 - 0.6275999999999999\n",
      "\n",
      "0.0074666666666668435\n",
      "Year - Month\n",
      "0.636 - 0.6285333333333332\n",
      "\n",
      "-0.00040000000000006697\n",
      "Day - Year\n",
      "0.6355999999999999 - 0.636\n",
      "\n",
      "-0.003466666666666618\n",
      "day_of_week - Day\n",
      "0.6321333333333333 - 0.6355999999999999\n",
      "\n"
     ]
    }
   ],
   "source": [
    "feature_diffs = []\n",
    "train_features = list(features_to_add)\n",
    "for i in range(1, len(features_results)):\n",
    "    feature_diffs.append(features_results[i] - features_results[i-1])\n",
    "    print(features_results[i] - features_results[i-1])\n",
    "    print('{} - {}'.format(train_features[i], train_features[i-1]))\n",
    "    print('{} - {}'.format(features_results[i], features_results[i-1]))\n",
    "    print()\n",
    "#We need to delete train_feature[0] ('feature1')\n",
    "train_features.pop(0)\n",
    "diff_feat_dict = dict(zip(feature_diffs, train_features))"
   ]
  },
  {
   "cell_type": "code",
   "execution_count": 67,
   "metadata": {},
   "outputs": [
    {
     "name": "stdout",
     "output_type": "stream",
     "text": [
      "54 54\n"
     ]
    }
   ],
   "source": [
    "print(len(train_features), len(feature_diffs))"
   ]
  },
  {
   "cell_type": "code",
   "execution_count": 68,
   "metadata": {},
   "outputs": [],
   "source": [
    "from collections import OrderedDict\n",
    "diff_feat_dict = OrderedDict(sorted(diff_feat_dict.items(), key=lambda t: t[0], reverse=True))"
   ]
  },
  {
   "cell_type": "code",
   "execution_count": 69,
   "metadata": {
    "scrolled": true
   },
   "outputs": [
    {
     "data": {
      "text/plain": [
       "OrderedDict([(0.007733333333333481, 'feature17'),\n",
       "             (0.0074666666666668435, 'Year'),\n",
       "             (0.006133333333333435, 'feature13'),\n",
       "             (0.005466666666666842, 'feature31'),\n",
       "             (0.004933333333333123, 'feature9'),\n",
       "             (0.004666666666666708, 'feature46'),\n",
       "             (0.004266666666666641, 'feature35'),\n",
       "             (0.003866666666666685, 'feature38'),\n",
       "             (0.0033333333333332993, 'feature4'),\n",
       "             (0.0025333333333332764, 'feature43'),\n",
       "             (0.00226666666666675, 'feature21'),\n",
       "             (0.002266666666666639, 'feature6.1'),\n",
       "             (0.0018666666666666831, 'feature28'),\n",
       "             (0.0014666666666667272, 'feature25'),\n",
       "             (0.0014666666666666162, 'feature7'),\n",
       "             (0.0012000000000000899, 'feature33'),\n",
       "             (0.0011999999999999789, 'feature40'),\n",
       "             (0.0009333333333332305, 'Month'),\n",
       "             (0.0008000000000000229, 'feature23'),\n",
       "             (0.00040000000000006697, 'feature19'),\n",
       "             (0.0, 'feature26'),\n",
       "             (-0.00013333333333331865, 'feature34'),\n",
       "             (-0.0002666666666667483, 'feature22'),\n",
       "             (-0.00026666666666685934, 'feature30'),\n",
       "             (-0.00039999999999995595, 'feature44'),\n",
       "             (-0.00040000000000006697, 'Day'),\n",
       "             (-0.0005333333333332746, 'feature24'),\n",
       "             (-0.0009333333333333416, 'feature39'),\n",
       "             (-0.0009333333333334526, 'feature48'),\n",
       "             (-0.0010666666666667712, 'feature2'),\n",
       "             (-0.0011999999999999789, 'feature11'),\n",
       "             (-0.0013333333333334085, 'feature45'),\n",
       "             (-0.0017333333333333645, 'feature18'),\n",
       "             (-0.0018666666666666831, 'Opening odds'),\n",
       "             (-0.0018666666666667941, 'feature37'),\n",
       "             (-0.0020000000000000018, 'feature6'),\n",
       "             (-0.002000000000000113, 'feature15'),\n",
       "             (-0.0023999999999998467, 'feature41'),\n",
       "             (-0.0024000000000001798, 'feature20'),\n",
       "             (-0.0031999999999997586, 'feature8'),\n",
       "             (-0.0031999999999999806, 'feature16'),\n",
       "             (-0.003466666666666618, 'day_of_week'),\n",
       "             (-0.003466666666666729, 'feature42'),\n",
       "             (-0.0037333333333333663, 'feature14'),\n",
       "             (-0.003866666666666574, 'feature47'),\n",
       "             (-0.0043999999999999595, 'feature36'),\n",
       "             (-0.0044000000000000705, 'feature32'),\n",
       "             (-0.004933333333333345, 'feature12'),\n",
       "             (-0.006399999999999961, 'feature29')])"
      ]
     },
     "execution_count": 69,
     "metadata": {},
     "output_type": "execute_result"
    }
   ],
   "source": [
    "diff_feat_dict"
   ]
  },
  {
   "cell_type": "code",
   "execution_count": 70,
   "metadata": {
    "scrolled": true
   },
   "outputs": [
    {
     "name": "stdout",
     "output_type": "stream",
     "text": [
      "feature17 popped\n",
      "0 0.6288307291648583 Year 48\n",
      "1 0.6354983716423878 feature13 48\n",
      "feature13 popped\n",
      "0 0.6354983716423878 Year 47\n",
      "1 0.6324983695590529 feature31 47\n",
      "2 0.6306654532398981 feature9 47\n",
      "3 0.634000731713471 feature46 47\n",
      "4 0.6326626754601913 feature35 47\n",
      "5 0.634496983678461 feature38 47\n",
      "6 0.6281694811362136 feature4 47\n",
      "7 0.6323311508086695 feature43 47\n",
      "8 0.6294997591433512 feature21 47\n",
      "9 0.6286648979154383 feature6.1 47\n",
      "10 0.6298329546293666 feature28 47\n",
      "11 0.6298329546293666 feature25 47\n",
      "12 0.6369989295131455 feature7 47\n",
      "feature7 popped\n",
      "0 0.6328319811333203 Year 46\n",
      "1 0.6241655915501794 feature31 46\n",
      "2 0.6329982307858085 feature9 46\n",
      "3 0.6289967017338206 feature46 46\n",
      "4 0.6276643416650521 feature35 46\n",
      "5 0.6338310104150534 feature38 46\n",
      "6 0.6353323999993518 feature4 46\n",
      "7 0.6320008718756055 feature43 46\n",
      "8 0.6349978174753362 feature21 46\n",
      "9 0.6311669809029959 feature6.1 46\n",
      "10 0.6369989295131455 feature28 46\n",
      "11 0.6369989295131455 feature25 46\n",
      "12 0.6248325336800002 feature33 46\n",
      "13 0.6313296205992736 feature40 46\n",
      "14 0.6313314276607136 Month 46\n",
      "15 0.6335000385416935 feature23 46\n",
      "16 0.637168235417756 feature19 46\n",
      "feature19 popped\n",
      "0 0.6348317054386843 Year 45\n",
      "1 0.6303304541646672 feature31 45\n",
      "2 0.6299972596045784 feature9 45\n",
      "3 0.6311636484932744 feature46 45\n",
      "4 0.6293301761552149 feature35 45\n",
      "5 0.6278318432860022 feature38 45\n",
      "6 0.6321665668980788 feature4 45\n",
      "7 0.6373293455990826 feature43 45\n",
      "feature43 popped\n",
      "0 0.6284978156234831 Year 44\n",
      "1 0.6324968439792898 feature31 44\n",
      "2 0.6293312879615426 feature9 44\n",
      "3 0.6306610099497755 feature46 44\n",
      "4 0.6273314255773789 feature35 44\n",
      "5 0.6324965671272457 feature38 44\n",
      "6 0.6373293455990826 feature4 44\n",
      "7 0.6336647612255286 feature21 44\n",
      "8 0.633832676851396 feature6.1 44\n",
      "9 0.6328346208342275 feature28 44\n",
      "10 0.6328346208342275 feature25 44\n",
      "11 0.6356642065955138 feature33 44\n",
      "12 0.6343293435157479 feature40 44\n",
      "13 0.6391671229169835 Month 44\n",
      "Month popped\n",
      "0 0.6254968402755836 Year 43\n",
      "1 0.6253298965253911 feature31 43\n",
      "2 0.6246648965265484 feature9 43\n",
      "3 0.623663924419392 feature46 43\n",
      "4 0.6258329525460319 feature35 43\n",
      "5 0.6288321217584179 feature38 43\n",
      "6 0.6411629571733498 feature4 43\n",
      "feature4 popped\n",
      "0 0.635662818631587 Year 42\n",
      "1 0.6293337881947604 feature31 42\n",
      "2 0.6303329557867748 feature9 42\n",
      "3 0.6293317059016477 feature46 42\n",
      "4 0.6329983709479428 feature35 42\n",
      "5 0.6411629571733498 feature38 42\n",
      "6 0.639332815856122 feature21 42\n",
      "7 0.6403326770828776 feature6.1 42\n",
      "8 0.6444985145823019 feature28 42\n",
      "feature28 popped\n",
      "0 0.6339965666642824 Year 41\n",
      "1 0.6346668442130863 feature31 41\n",
      "2 0.6313323993049069 feature9 41\n",
      "3 0.6323329555552932 feature46 41\n",
      "4 0.6318330929396478 feature35 41\n",
      "5 0.6378346238434888 feature38 41\n",
      "6 0.640834206366347 feature21 41\n",
      "7 0.6444985145823019 feature6.1 41\n",
      "8 0.6444985145823019 feature25 41\n",
      "9 0.6341660106476925 feature33 41\n",
      "10 0.6391671229169835 feature40 41\n",
      "11 0.6368350408576673 feature23 41\n",
      "12 0.6399994843746419 feature26 41\n",
      "13 0.6356655954853674 feature34 41\n",
      "14 0.6378335129630877 feature22 41\n",
      "15 0.641331287730061 feature30 41\n",
      "16 0.642834900001088 feature44 41\n",
      "17 0.6360012863434858 Day 41\n",
      "18 0.6336664271989078 feature24 41\n",
      "19 0.6335007314819895 feature39 41\n",
      "20 0.6314994813653806 feature48 41\n",
      "21 0.6343350359965527 feature2 41\n",
      "22 0.6391667056713233 feature11 41\n",
      "23 0.630832815856122 feature45 41\n",
      "24 0.637164205206624 feature18 41\n",
      "25 0.6353326770828776 Opening odds 41\n",
      "26 0.6319961494186224 feature37 41\n",
      "27 0.6363340680560658 feature6 41\n",
      "28 0.6351625383073183 feature15 41\n",
      "29 0.6373280947880288 feature41 41\n",
      "30 0.6348279534684862 feature20 41\n",
      "31 0.634996008562043 feature8 41\n",
      "32 0.6376636484932744 feature16 41\n",
      "33 0.6356628156223257 day_of_week 41\n",
      "34 0.6368285104133173 feature42 41\n",
      "35 0.6429926773097295 feature14 41\n",
      "36 0.6381614290472887 feature47 41\n",
      "37 0.6391653163185067 feature36 41\n",
      "38 0.6396611496489465 feature32 41\n",
      "39 0.6393279560147842 feature12 41\n",
      "40 0.6393297605299264 feature29 41\n",
      "feature29 popped\n",
      "Wall time: 13min 33s\n"
     ]
    }
   ],
   "source": [
    "%%time\n",
    "X_train_t = X_train.drop(train_features, axis=1)\n",
    "features_results3 = []\n",
    "dict_to_work = diff_feat_dict.copy()\n",
    "feature_names = []\n",
    "data_with_static_features = X_train.drop(train_features, axis=1)\n",
    "to_break = False\n",
    "for e in range(10):\n",
    "    if e == 0:\n",
    "        value_on_step = list(dict_to_work.keys())[0]\n",
    "        X_train_t[dict_to_work[value_on_step]] = X_train[dict_to_work[value_on_step]]\n",
    "        feature_names.append(dict_to_work[value_on_step])\n",
    "        print(dict_to_work[value_on_step], 'popped')\n",
    "        dict_to_work.pop(value_on_step)\n",
    "        features_results3.append(np.mean(cross_val_score(lgb, X_train_t, y_train, cv=5, n_jobs=2)))\n",
    "    if to_break:\n",
    "        X_train_t.drop(feature_names.pop(), axis=1, inplace=True)\n",
    "        features_results3.pop()\n",
    "        break\n",
    "    else:\n",
    "        data = X_train_t.copy()\n",
    "        acc_on_step = 0\n",
    "        value_on_step = 0\n",
    "        i = 0\n",
    "        while acc_on_step <= features_results3[e]:\n",
    "            if i >= len(dict_to_work):\n",
    "                to_break = True\n",
    "                break\n",
    "            value_on_step = list(dict_to_work.keys())[i]\n",
    "            data[dict_to_work[value_on_step]] = X_train[diff_feat_dict[value_on_step]]\n",
    "            acc_on_step = np.mean(cross_val_score(lgb, data, y_train, cv=5, n_jobs=2))\n",
    "            print(i, acc_on_step, dict_to_work[value_on_step], len(dict_to_work))\n",
    "            i += 1\n",
    "        features_results3.append(acc_on_step)\n",
    "        X_train_t[dict_to_work[value_on_step]] = X_train[dict_to_work[value_on_step]]\n",
    "        feature_names.append(dict_to_work[value_on_step])\n",
    "        print(dict_to_work[value_on_step], 'popped')\n",
    "        dict_to_work.pop(value_on_step)\n",
    "    "
   ]
  },
  {
   "cell_type": "code",
   "execution_count": 71,
   "metadata": {},
   "outputs": [
    {
     "data": {
      "text/plain": [
       "Text(0.5,1,'Comparing different features in the model')"
      ]
     },
     "execution_count": 71,
     "metadata": {},
     "output_type": "execute_result"
    },
    {
     "data": {
      "image/png": "[encoded data removed]",
      "text/plain": [
       "<Figure size 864x576 with 1 Axes>"
      ]
     },
     "metadata": {},
     "output_type": "display_data"
    }
   ],
   "source": [
    "fig, ax = plt.subplots(figsize=(12, 8))\n",
    "ax.plot(feature_names, features_results3)\n",
    "ax.scatter(feature_names, features_results3)\n",
    "ax.set_xlabel('feature index')\n",
    "ax.set_ylabel('accuracy score on CV')\n",
    "ax.set_title('Comparing different features in the model')"
   ]
  },
  {
   "cell_type": "code",
   "execution_count": 72,
   "metadata": {},
   "outputs": [],
   "source": [
    "X_test_t = X_test[X_train_t.columns]"
   ]
  },
  {
   "cell_type": "code",
   "execution_count": null,
   "metadata": {},
   "outputs": [],
   "source": [
    "med = []\n",
    "lgb = LGBMClassifier(boosting_type='gbdt',\n",
    "                     num_leaves=11,\n",
    "                     max_depth=4,\n",
    "                     learning_rate=0.1,\n",
    "                     n_estimators=1000,\n",
    "                     subsample_for_bin=20000,\n",
    "                     objective=None,\n",
    "                     class_weight=None,\n",
    "                     min_split_gain=0.0,\n",
    "                     min_child_weight=0.001,\n",
    "                     min_child_samples=20,\n",
    "                     subsample=.75,\n",
    "                     subsample_freq=1,\n",
    "                     colsample_bytree=1.0,\n",
    "                     reg_alpha=0.0,\n",
    "                     reg_lambda=0.0,\n",
    "                     random_state=0,\n",
    "                     n_jobs=-1,\n",
    "                     silent=True,\n",
    "                     feature_fraction=.75,\n",
    "                     begging_fraction=.75,\n",
    "                     begging_freq=1,\n",
    "                     early_stopping_round=100)\n",
    "for i in range(5):\n",
    "    lgb.fit(X_train_t, y_train,\n",
    "        eval_set=(X_test_t, y_test),\n",
    "        eval_names=None,\n",
    "        eval_sample_weight=None,\n",
    "        eval_class_weight=None,\n",
    "        eval_init_score=None,\n",
    "        eval_metric='logloss',\n",
    "        early_stopping_rounds=None,\n",
    "        verbose=True,\n",
    "        feature_name=list(X_test_t.columns),\n",
    "        categorical_feature=[0, 4, 5, 13])\n",
    "    med.append(accuracy_score(y_test, lgb.predict(X_test_t)))"
   ]
  },
  {
   "cell_type": "code",
   "execution_count": null,
   "metadata": {},
   "outputs": [],
   "source": [
    "med2 = []\n",
    "for i in range(5):\n",
    "    lgb.fit(X_train, y_train,\n",
    "        eval_set=(X_test, y_test),\n",
    "        eval_names=None,\n",
    "        eval_sample_weight=None,\n",
    "        eval_class_weight=None,\n",
    "        eval_init_score=None,\n",
    "        eval_metric='logloss',\n",
    "        early_stopping_rounds=None,\n",
    "        verbose=True,\n",
    "        feature_name=list(X_test.columns),\n",
    "        categorical_feature=[0, 4, 5])\n",
    "    med2.append(accuracy_score(np.array(y_test), lgb.predict(X_test)))"
   ]
  },
  {
   "cell_type": "code",
   "execution_count": 99,
   "metadata": {},
   "outputs": [
    {
     "name": "stdout",
     "output_type": "stream",
     "text": [
      "0.65\n",
      "0.6486666666666666\n"
     ]
    }
   ],
   "source": [
    "print(np.mean(med))\n",
    "print(np.mean(med2))"
   ]
  },
  {
   "cell_type": "markdown",
   "metadata": {},
   "source": [
    "As we can see, lgb model fitted with selected features works ~2-3 times faster and has better accuracy"
   ]
  },
  {
   "cell_type": "markdown",
   "metadata": {},
   "source": [
    "# Categorical features vs non-categorical features"
   ]
  },
  {
   "cell_type": "markdown",
   "metadata": {},
   "source": [
    "Let's find out what features better to treat as categorical using catboostclassifier model on our selected features"
   ]
  },
  {
   "cell_type": "markdown",
   "metadata": {},
   "source": [
    "## CatBosstClassifier"
   ]
  },
  {
   "cell_type": "markdown",
   "metadata": {},
   "source": [
    "We don't need to use GridSearchCV for CatBoost because there's a built-in option (use_best_model=True) to find the best parameters for a model"
   ]
  },
  {
   "cell_type": "code",
   "execution_count": 101,
   "metadata": {},
   "outputs": [
    {
     "name": "stdout",
     "output_type": "stream",
     "text": [
      "0 fighter_id\n",
      "1 Wins\n",
      "2 Losses\n",
      "3 Draws\n",
      "4 Weight Class\n",
      "5 Stance\n",
      "6 Odds\n",
      "7 feature0\n",
      "8 feature17\n",
      "9 feature13\n",
      "10 feature7\n",
      "11 feature19\n",
      "12 feature43\n",
      "13 Month\n",
      "14 feature4\n",
      "15 feature28\n"
     ]
    }
   ],
   "source": [
    "normal_features = list(X_test_t.columns)\n",
    "for i in range(len(normal_features)):\n",
    "    print(i, normal_features[i])"
   ]
  },
  {
   "cell_type": "code",
   "execution_count": 102,
   "metadata": {},
   "outputs": [
    {
     "name": "stderr",
     "output_type": "stream",
     "text": [
      "C:\\Users\\Aqice\\Anaconda3\\lib\\site-packages\\pandas\\core\\frame.py:3694: SettingWithCopyWarning: \n",
      "A value is trying to be set on a copy of a slice from a DataFrame\n",
      "\n",
      "See the caveats in the documentation: http://pandas.pydata.org/pandas-docs/stable/indexing.html#indexing-view-versus-copy\n",
      "  errors=errors)\n",
      "C:\\Users\\Aqice\\AppData\\Roaming\\Python\\Python36\\site-packages\\sklearn\\model_selection\\_split.py:2026: FutureWarning: From version 0.21, test_size will always complement train_size unless both are specified.\n",
      "  FutureWarning)\n"
     ]
    }
   ],
   "source": [
    "data = df.dropna()\n",
    "result = data['Winner Result']\n",
    "data.drop(['Number', 'fight_id', 'Date', 'Winner Result'], axis=1, inplace=True)\n",
    "X_train, X_test, y_train, y_test = split(data[normal_features], result, train_size=0.75, shuffle=True, random_state=42)"
   ]
  },
  {
   "cell_type": "code",
   "execution_count": 103,
   "metadata": {},
   "outputs": [
    {
     "name": "stdout",
     "output_type": "stream",
     "text": [
      "Learning rate set to 0.091798\n",
      "Learning rate set to 0.091798\n",
      "Learning rate set to 0.091798\n",
      "Learning rate set to 0.091798\n"
     ]
    }
   ],
   "source": [
    "# 0 ('Stance') - is constant-categorical feature\n",
    "feature_comb = [[5], [5, 0], [5, 4], [5, 0, 4]]\n",
    "acc_score_cat = {}\n",
    "cat = CatBoostClassifier(eval_metric='Accuracy',\n",
    "                         allow_writing_files=False,\n",
    "                         use_best_model=True)\n",
    "for cat_index in feature_comb:\n",
    "    cat.fit(X_train, y_train, eval_set=(X_test, y_test), cat_features=list(cat_index), silent=True, use_best_model=True)\n",
    "    acc_score_cat[str(cat_index)] = [accuracy_score(y_test, cat.predict(X_test)), accuracy_score(y_train, cat.predict(X_train))]"
   ]
  },
  {
   "cell_type": "code",
   "execution_count": 111,
   "metadata": {},
   "outputs": [
    {
     "name": "stdout",
     "output_type": "stream",
     "text": [
      "[5]:\n",
      "test accuracy: 0.6575255102040817\n",
      "train accuracy: 0.7198468410976387\n",
      "\n",
      "[5, 0]:\n",
      "test accuracy: 0.71875\n",
      "train accuracy: 0.8596043395022336\n",
      "\n",
      "[5, 4]:\n",
      "test accuracy: 0.6594387755102041\n",
      "train accuracy: 0.706019995745586\n",
      "\n",
      "[5, 0, 4]:\n",
      "test accuracy: 0.7021683673469388\n",
      "train accuracy: 0.8136566687938737\n",
      "\n"
     ]
    },
    {
     "data": {
      "image/png": "[encoded data removed]",
      "text/plain": [
       "<Figure size 432x288 with 1 Axes>"
      ]
     },
     "metadata": {},
     "output_type": "display_data"
    }
   ],
   "source": [
    "for values, key in zip(acc_score_cat.values(), acc_score_cat.keys()):\n",
    "    print('{}:'.format(key))\n",
    "    print('test accuracy: {}'.format(values[0]))\n",
    "    print('train accuracy: {}'.format(values[1]))\n",
    "    print()\n",
    "plt.xlabel('cat index')\n",
    "plt.ylabel('accuracy')\n",
    "plt.plot(list(acc_score_cat.keys()), np.array(list(acc_score_cat.values()))[:, 0], color='red', label='test')\n",
    "plt.plot(list(acc_score_cat.keys()), np.array(list(acc_score_cat.values()))[:, 1], color='blue', label='train')\n",
    "plt.scatter(list(acc_score_cat.keys()), np.array(list(acc_score_cat.values()))[:, 0], color='red')\n",
    "plt.scatter(list(acc_score_cat.keys()), np.array(list(acc_score_cat.values()))[:, 1], color='blue')\n",
    "plt.legend()\n",
    "plt.show()"
   ]
  },
  {
   "cell_type": "code",
   "execution_count": 109,
   "metadata": {},
   "outputs": [
    {
     "name": "stdout",
     "output_type": "stream",
     "text": [
      "Learning rate set to 0.091798\n",
      "Wall time: 33.8 s\n"
     ]
    },
    {
     "data": {
      "text/plain": [
       "<catboost.core.CatBoostClassifier at 0x19988fb1320>"
      ]
     },
     "execution_count": 109,
     "metadata": {},
     "output_type": "execute_result"
    }
   ],
   "source": [
    "%%time\n",
    "cat.fit(X_train, y_train, eval_set=(X_test, y_test), cat_features=[0, 5], silent=True, use_best_model=True)"
   ]
  },
  {
   "cell_type": "code",
   "execution_count": 112,
   "metadata": {},
   "outputs": [
    {
     "name": "stdout",
     "output_type": "stream",
     "text": [
      "{'allow_writing_files': False, 'eval_metric': 'Accuracy', 'use_best_model': True, 'loss_function': 'Logloss'}\n",
      "cat (train): 0.8391831525207403\n",
      "cat (test): 0.7295918367346939\n"
     ]
    }
   ],
   "source": [
    "print(cat.get_params())\n",
    "cat_train_acc = accuracy_score(y_train, cat.predict(X_train))\n",
    "cat_test_acc = accuracy_score(y_test, cat.predict(X_test))\n",
    "print('cat (train): {}'.format(cat_train_acc))\n",
    "print('cat (test): {}'.format(cat_test_acc))"
   ]
  },
  {
   "cell_type": "markdown",
   "metadata": {},
   "source": [
    "## Logistic regression"
   ]
  },
  {
   "cell_type": "markdown",
   "metadata": {},
   "source": [
    "For logistic regression model we need to use one-hot encoding for categorical features"
   ]
  },
  {
   "cell_type": "code",
   "execution_count": 113,
   "metadata": {},
   "outputs": [
    {
     "name": "stderr",
     "output_type": "stream",
     "text": [
      "C:\\Users\\Aqice\\AppData\\Roaming\\Python\\Python36\\site-packages\\sklearn\\model_selection\\_split.py:2026: FutureWarning: From version 0.21, test_size will always complement train_size unless both are specified.\n",
      "  FutureWarning)\n"
     ]
    }
   ],
   "source": [
    "one_hot1 = pd.get_dummies(data['Stance'])\n",
    "one_hot2 = pd.get_dummies(data['fighter_id'])\n",
    "data_enc = data[normal_features].drop(['Weight Class', 'Stance'], axis=1)\n",
    "data_enc = data_enc.join([one_hot1, one_hot2])\n",
    "X_train_enc, X_test_enc, y_train, y_test = split(data_enc, result, train_size=0.75, shuffle=True, random_state=42)"
   ]
  },
  {
   "cell_type": "markdown",
   "metadata": {},
   "source": [
    "Let's try out logistic regression with parameters' tuning with GridSearchCV"
   ]
  },
  {
   "cell_type": "code",
   "execution_count": 114,
   "metadata": {},
   "outputs": [
    {
     "name": "stdout",
     "output_type": "stream",
     "text": [
      "Wall time: 22.8 s\n"
     ]
    }
   ],
   "source": [
    "%%time\n",
    "lgGridParams = {\n",
    "    'penalty' : ['l1', 'l2'],\n",
    "    'C' : list(np.linspace(0.1, 2, 20)),\n",
    "    }\n",
    "lg = LogisticRegression()\n",
    "lg_clf = GridSearchCV(lg, lgGridParams, cv=3)\n",
    "lg_best_model = lg_clf.fit(X_train_enc, y_train)"
   ]
  },
  {
   "cell_type": "code",
   "execution_count": 115,
   "metadata": {},
   "outputs": [
    {
     "name": "stdout",
     "output_type": "stream",
     "text": [
      "{'C': 0.8999999999999999, 'class_weight': None, 'dual': False, 'fit_intercept': True, 'intercept_scaling': 1, 'max_iter': 100, 'multi_class': 'ovr', 'n_jobs': 1, 'penalty': 'l2', 'random_state': None, 'solver': 'liblinear', 'tol': 0.0001, 'verbose': 0, 'warm_start': False}\n",
      "lg (train): 0.6604977664326739\n",
      "lg (test): 0.6441326530612245\n"
     ]
    }
   ],
   "source": [
    "print(lg_best_model.best_estimator_.get_params())\n",
    "lg_train_acc = accuracy_score(y_train, lg_best_model.predict(X_train_enc))\n",
    "lg_test_acc = accuracy_score(y_test, lg_best_model.predict(X_test_enc))\n",
    "print('lg (train): {}'.format(lg_train_acc))\n",
    "print('lg (test): {}'.format(lg_test_acc))"
   ]
  },
  {
   "cell_type": "markdown",
   "metadata": {},
   "source": [
    "## Lightgbm"
   ]
  },
  {
   "cell_type": "markdown",
   "metadata": {},
   "source": [
    "There are many parameters to tune in Lightgbm. Let's use RandomizedSearchCV to make the tuning faster "
   ]
  },
  {
   "cell_type": "code",
   "execution_count": 121,
   "metadata": {
    "scrolled": true
   },
   "outputs": [],
   "source": [
    "lgbGridParams = {\n",
    "    'learning_rate': np.arange(0.001, 0.1, 0.005),\n",
    "    'n_estimators': list(range(100,1000, 20)),\n",
    "    'num_leaves': list(range(2,50, 1)),\n",
    "    'max_depth': list(range(2,10)),\n",
    "    'reg_alpha': np.arange(0, 3, 0.2),\n",
    "    'reg_lambda': np.arange(0, 1, 0.1)\n",
    "    }\n",
    "lgb = LGBMClassifier(boosting_type='gbdt',\n",
    "                     learning_rate=0.1,\n",
    "                     subsample_for_bin=20000,\n",
    "                     objective=None,\n",
    "                     class_weight=None,\n",
    "                     min_split_gain=0.0,\n",
    "                     min_child_weight=0.001,\n",
    "                     min_child_samples=20,\n",
    "                     subsample=.75,\n",
    "                     subsample_freq=1,\n",
    "                     colsample_bytree=1.0,\n",
    "                     reg_alpha=0.0,\n",
    "                     reg_lambda=0.0,\n",
    "                     random_state=0,\n",
    "                     n_jobs=-1,\n",
    "                     silent=True,\n",
    "                     feature_fraction=.75,\n",
    "                     begging_fraction=.75,\n",
    "                     begging_freq=1,\n",
    "                     early_stopping_round=100)\n",
    "\n",
    "lgb_clf_random = RandomizedSearchCV(lgb, lgbGridParams, n_iter=2000)\n",
    "# let's encode Stance and fighter_id for RandomizedSearchCV fitting\n",
    "stance = {'open stance': 1, 'orthodox': 2, 'southpaw': 3, 'switch': 4} \n",
    "X_train_num_cat, X_test_num_cat = X_train.copy(), X_test.copy()\n",
    "X_train_num_cat['Stance'] = [stance[item] for item in X_train_num_cat['Stance']]\n",
    "X_train_num_cat['fighter_id'] = pd.to_numeric(X_train_num_cat['fighter_id'])\n",
    "X_test_num_cat['Stance'] = [stance[item] for item in X_test_num_cat['Stance']]\n",
    "X_test_num_cat['fighter_id'] = pd.to_numeric(X_test_num_cat['fighter_id'])"
   ]
  },
  {
   "cell_type": "code",
   "execution_count": null,
   "metadata": {},
   "outputs": [],
   "source": [
    "lgb_best_model = lgb_clf_random.fit(X_train_num_cat, y_train,\n",
    "                    eval_set=(X_test_num_cat, y_test),\n",
    "                    eval_names=None,\n",
    "                    eval_sample_weight=None,\n",
    "                    eval_class_weight=None,\n",
    "                    eval_init_score=None,\n",
    "                    eval_metric='logloss',\n",
    "                    early_stopping_rounds=None,\n",
    "                    verbose=True,\n",
    "                    feature_name=list(X_test_num_cat.columns))"
   ]
  },
  {
   "cell_type": "code",
   "execution_count": 123,
   "metadata": {},
   "outputs": [
    {
     "name": "stdout",
     "output_type": "stream",
     "text": [
      "{'boosting_type': 'gbdt', 'class_weight': None, 'colsample_bytree': 1.0, 'learning_rate': 0.091, 'max_depth': 4, 'min_child_samples': 20, 'min_child_weight': 0.001, 'min_split_gain': 0.0, 'n_estimators': 540, 'n_jobs': -1, 'num_leaves': 18, 'objective': None, 'random_state': 0, 'reg_alpha': 2.8000000000000003, 'reg_lambda': 0.5, 'silent': True, 'subsample': 0.75, 'subsample_for_bin': 20000, 'subsample_freq': 1, 'feature_fraction': 0.75, 'begging_fraction': 0.75, 'begging_freq': 1, 'early_stopping_round': 100}\n",
      "lgb (train): 0.7058072750478621\n",
      "lgb (test): 0.6441326530612245\n"
     ]
    },
    {
     "name": "stderr",
     "output_type": "stream",
     "text": [
      "C:\\Users\\Aqice\\AppData\\Roaming\\Python\\Python36\\site-packages\\sklearn\\preprocessing\\label.py:151: DeprecationWarning: The truth value of an empty array is ambiguous. Returning False, but in future this will result in an error. Use `array.size > 0` to check that an array is not empty.\n",
      "  if diff:\n"
     ]
    }
   ],
   "source": [
    "print(lgb_best_model.best_estimator_.get_params())\n",
    "lgb_train_acc = accuracy_score(y_train, lgb_best_model.predict(X_train_num_cat))\n",
    "lgb_test_acc = accuracy_score(y_test, lgb_best_model.predict(X_test_num_cat))\n",
    "print('lgb (train): {}'.format(lgb_train_acc))\n",
    "print('lgb (test): {}'.format(lgb_test_acc))"
   ]
  },
  {
   "cell_type": "markdown",
   "metadata": {},
   "source": [
    "Let's look at final results of each classifier"
   ]
  },
  {
   "cell_type": "code",
   "execution_count": 124,
   "metadata": {},
   "outputs": [
    {
     "data": {
      "image/png": "[encoded data removed]",
      "text/plain": [
       "<Figure size 864x576 with 1 Axes>"
      ]
     },
     "metadata": {},
     "output_type": "display_data"
    }
   ],
   "source": [
    "test_acc = (cat_test_acc, lg_test_acc, lgb_test_acc)\n",
    "train_acc = (cat_train_acc, lg_train_acc, lgb_train_acc)\n",
    "fig, ax = plt.subplots(figsize=(12, 8))\n",
    "index = np.arange(3)\n",
    "bar_width = 0.2\n",
    "opacity = 0.4\n",
    "error_config = {'ecolor': '0.4'}\n",
    "\n",
    "rects1 = ax.bar(index, test_acc, bar_width, alpha=opacity, color='b', error_kw=error_config, label='Test accuracy')\n",
    "rects2 = ax.bar(index + bar_width, train_acc, bar_width, alpha=opacity, color='r', error_kw=error_config, label='Train accuracy')\n",
    "\n",
    "ax.set_xlabel('Models')\n",
    "ax.set_ylabel('Accuracy score')\n",
    "ax.set_title('Train and test accuracy score for different models')\n",
    "ax.set_xticks(index + bar_width / 2)\n",
    "ax.set_yticks(np.arange(0, 1.1, 0.1))\n",
    "ax.set_xticklabels(('CatBoostClassifier', 'Logistic regression', 'Lightgbm'))\n",
    "ax.legend()\n",
    "\n",
    "fig.tight_layout()\n",
    "plt.show()"
   ]
  },
  {
   "cell_type": "code",
   "execution_count": 125,
   "metadata": {},
   "outputs": [
    {
     "name": "stdout",
     "output_type": "stream",
     "text": [
      "lg and lgb answers simularity: 0.8788265306122449\n",
      "lg and cat answers simularity: 0.764030612244898\n",
      "lgb and cat answers simularity: 0.7971938775510204\n"
     ]
    },
    {
     "name": "stderr",
     "output_type": "stream",
     "text": [
      "C:\\Users\\Aqice\\AppData\\Roaming\\Python\\Python36\\site-packages\\sklearn\\preprocessing\\label.py:151: DeprecationWarning: The truth value of an empty array is ambiguous. Returning False, but in future this will result in an error. Use `array.size > 0` to check that an array is not empty.\n",
      "  if diff:\n"
     ]
    }
   ],
   "source": [
    "print('lg and lgb answers simularity: {}'.format(\n",
    "    accuracy_score(lg_best_model.predict(X_test_enc), lgb_best_model.predict(X_test_num_cat))\n",
    "    ))\n",
    "print('lg and cat answers simularity: {}'.format(\n",
    "    accuracy_score(lg_best_model.predict(X_test_enc), cat.predict(X_test))\n",
    "    ))\n",
    "print('lgb and cat answers simularity: {}'.format(\n",
    "    accuracy_score(lgb_best_model.predict(X_test_num_cat), cat.predict(X_test))\n",
    "    ))"
   ]
  },
  {
   "cell_type": "markdown",
   "metadata": {},
   "source": [
    "## Ensembling"
   ]
  },
  {
   "cell_type": "code",
   "execution_count": 131,
   "metadata": {},
   "outputs": [],
   "source": [
    "def alg_ensemble(pred_list, y):\n",
    "    #pred_list.shape[1] should be 3\n",
    "    result = {}\n",
    "    A, B, C = np.arange(0.8, 2, 0.1), np.arange(0.2, 1, 0.05), np.arange(0.2, 1, 0.05)\n",
    "    for a in A:\n",
    "        for b in B:\n",
    "            for c in C:\n",
    "                ans = np.zeros(len(y))\n",
    "                for i in range(len(ans)):\n",
    "                    ans[i] = (a * pred_list[i, 0] + b * pred_list[i, 1] + c * pred_list[i, 2]) / 3\n",
    "                    ans[i] = 1 if ans[i] >= 0.5 else 0\n",
    "                result[str([a,b,c])] = accuracy_score(y, ans)\n",
    "        print(a)\n",
    "    return result\n",
    "        "
   ]
  },
  {
   "cell_type": "code",
   "execution_count": 127,
   "metadata": {},
   "outputs": [
    {
     "name": "stderr",
     "output_type": "stream",
     "text": [
      "C:\\Users\\Aqice\\AppData\\Roaming\\Python\\Python36\\site-packages\\sklearn\\preprocessing\\label.py:151: DeprecationWarning: The truth value of an empty array is ambiguous. Returning False, but in future this will result in an error. Use `array.size > 0` to check that an array is not empty.\n",
      "  if diff:\n"
     ]
    }
   ],
   "source": [
    "preds_test = []\n",
    "preds_train = []\n",
    "preds_test.append(cat.predict(X_test))\n",
    "preds_train.append(cat.predict(X_train))\n",
    "preds_test.append(lg_best_model.predict(X_test_enc))\n",
    "preds_train.append(lg_best_model.predict(X_train_enc))\n",
    "preds_test.append(lgb_best_model.predict(X_test_num_cat))\n",
    "preds_train.append(lgb_best_model.predict(X_train_num_cat))\n",
    "preds_test = np.array(preds_test)\n",
    "preds_train = np.array(preds_train)"
   ]
  },
  {
   "cell_type": "code",
   "execution_count": 132,
   "metadata": {},
   "outputs": [
    {
     "name": "stdout",
     "output_type": "stream",
     "text": [
      "0.8\n",
      "0.9\n",
      "1.0\n",
      "1.1\n",
      "1.2\n",
      "1.2999999999999998\n",
      "1.4\n",
      "1.5\n",
      "1.5999999999999999\n",
      "1.6999999999999997\n",
      "1.7999999999999998\n",
      "1.8999999999999997\n"
     ]
    }
   ],
   "source": [
    "preds_test_ens = alg_ensemble(preds_test.T, y_test)"
   ]
  },
  {
   "cell_type": "code",
   "execution_count": 133,
   "metadata": {},
   "outputs": [
    {
     "name": "stdout",
     "output_type": "stream",
     "text": [
      "0.7295918367346939\n"
     ]
    }
   ],
   "source": [
    "print(max(preds_test_ens.values()))"
   ]
  },
  {
   "cell_type": "code",
   "execution_count": 134,
   "metadata": {},
   "outputs": [
    {
     "data": {
      "image/png": "[encoded data removed]",
      "text/plain": [
       "<Figure size 432x288 with 1 Axes>"
      ]
     },
     "metadata": {},
     "output_type": "display_data"
    }
   ],
   "source": [
    "plt.plot(list(range(len(preds_test_ens.values()))), preds_test_ens.values())\n",
    "plt.xlabel('iteration number')\n",
    "plt.ylabel('ensemble accuracy')\n",
    "plt.show()"
   ]
  },
  {
   "cell_type": "markdown",
   "metadata": {},
   "source": [
    "We can see that max value of the best model = best blending value\n",
    "\n",
    "So it's the best approch so far. Let's try to change conception and impore catboost's model"
   ]
  },
  {
   "cell_type": "markdown",
   "metadata": {},
   "source": [
    "## Categorical features selection (wider approach)"
   ]
  },
  {
   "cell_type": "code",
   "execution_count": 6,
   "metadata": {},
   "outputs": [],
   "source": [
    "features = [\n",
    "            'fighter_id', 'Wins', 'Losses', 'Draws',\n",
    "            'Weight Class', 'Stance', 'Odds', 'Opening odds',\n",
    "            'Month', 'Year', 'Day', 'day_of_week',\n",
    "            'feature0', 'feature1', 'feature2', 'feature3', 'feature4', 'feature5', 'feature6', 'feature6.1',\n",
    "            'feature7', 'feature8', 'feature9', 'feature10', 'feature11',\n",
    "            'feature12', 'feature13', 'feature14', 'feature15', 'feature16',\n",
    "            'feature17', 'feature18', 'feature19', 'feature20',\n",
    "            'feature21', 'feature22', 'feature23', 'feature24', 'feature25',\n",
    "            'feature26', 'feature27', 'feature28', 'feature29', 'feature30',\n",
    "            'feature31', 'feature32', 'feature33', 'feature34', 'feature35',\n",
    "            'feature36', 'feature37', 'feature38', 'feature39', 'feature40',\n",
    "            'feature41', 'feature42', 'feature43', 'feature44', 'feature45',\n",
    "            'feature46', 'feature47', 'feature48'\n",
    "           ]\n",
    "\n",
    "X_train, X_test, y_train, y_test = split(data[features], result, test_size=0.25, shuffle=True, random_state=42)"
   ]
  },
  {
   "cell_type": "code",
   "execution_count": 23,
   "metadata": {},
   "outputs": [
    {
     "name": "stdout",
     "output_type": "stream",
     "text": [
      "0 fighter_id 32233.0\n",
      "1 Wins 19.0\n",
      "2 Losses 4.0\n",
      "3 Draws 0.0\n",
      "4 Weight Class 155.0\n",
      "5 Stance 3.0\n",
      "6 Odds -300.0\n",
      "7 Opening odds -275.0\n",
      "8 Month 1.0\n",
      "9 Year 2014.0\n",
      "10 Day 23.0\n",
      "11 day_of_week 3.0\n",
      "12 feature0 16644.0\n",
      "13 feature1 7.0\n",
      "14 feature2 1.0\n",
      "15 feature3 30.0\n",
      "16 feature4 446.0\n",
      "17 feature5 65.748\n",
      "18 feature6 65.3846\n",
      "19 feature6.1 4.0\n",
      "20 feature7 6.0\n",
      "21 feature8 9.0\n",
      "22 feature9 175.26\n",
      "23 feature10 1.0\n",
      "24 feature11 2.7\n",
      "25 feature12 724.0\n",
      "26 feature13 0.8\n",
      "27 feature14 1.04073159928618\n",
      "28 feature15 63.1249900100223\n",
      "29 feature16 0.9716738972019452\n",
      "30 feature17 1.8723\n",
      "31 feature18 11459.304996\n",
      "32 feature19 70.0\n",
      "33 feature20 84.0316\n",
      "34 feature21 288.2222\n",
      "35 feature22 13.6383\n",
      "36 feature23 30.7447\n",
      "37 feature24 0.8723\n",
      "38 feature25 1.8723\n",
      "39 feature26 40.9149\n",
      "40 feature27 0.4894\n",
      "41 feature28 0.2766\n",
      "42 feature29 2.9149\n",
      "43 feature30 3.1064\n",
      "44 feature31 0.4468\n",
      "45 feature32 22.4894\n",
      "46 feature33 6.4468\n",
      "47 feature34 3.383\n",
      "48 feature35 19.3404\n",
      "49 feature36 4.7872\n",
      "50 feature37 2.766\n",
      "51 feature38 1.617\n",
      "52 feature39 2.0638\n",
      "53 feature40 6.4468\n",
      "54 feature41 14.1489\n",
      "55 feature42 2.2766\n",
      "56 feature43 19.3404\n",
      "57 feature44 0.0638\n",
      "58 feature45 145.4444\n",
      "59 feature46 59.6\n",
      "60 feature47 3.8085\n",
      "61 feature48 6.617\n"
     ]
    }
   ],
   "source": [
    "for i in enumerate(features):\n",
    "    print(i[0], i[1])"
   ]
  },
  {
   "cell_type": "markdown",
   "metadata": {},
   "source": [
    "Let's filter all features which can be categorical theoretically \n",
    "\n",
    "Stance feature should always be categorical"
   ]
  },
  {
   "cell_type": "code",
   "execution_count": 48,
   "metadata": {},
   "outputs": [],
   "source": [
    "import itertools\n",
    "\n",
    "\n",
    "cat_possible_combination = []\n",
    "cat_feat = [0,1,2,3,4,5,8,9,10,11, 23, 21, 20, 19]\n",
    "for L in range(0, len(cat_feat)+1):\n",
    "    for subset in itertools.combinations(cat_feat, L):\n",
    "        cat_possible_combination.append(list(subset))\n",
    "for i in cat_possible_combination:\n",
    "    if not 0 in i:\n",
    "        i.append(0)\n",
    "    if not 5 in i:\n",
    "        i.append(5)\n",
    "cat_possible_combination_new = []\n",
    "for i in cat_possible_combination:\n",
    "    if i not in cat_possible_combination_new:\n",
    "        cat_possible_combination_new.append(i)\n",
    "cat_possible_combination = cat_possible_combination_new\n",
    "del cat_possible_combination_new"
   ]
  },
  {
   "cell_type": "markdown",
   "metadata": {},
   "source": [
    "## Directed cat features appending"
   ]
  },
  {
   "cell_type": "code",
   "execution_count": 105,
   "metadata": {},
   "outputs": [
    {
     "name": "stdout",
     "output_type": "stream",
     "text": [
      "Learning rate set to 0.093544\n",
      "29 out of 30\n",
      "Learning rate set to 0.093544\n",
      "29 out of 30\n",
      "Learning rate set to 0.093544\n",
      "29 out of 30\n",
      "Learning rate set to 0.093544\n",
      "29 out of 30\n",
      "Learning rate set to 0.093544\n",
      "29 out of 30\n",
      "Learning rate set to 0.093544\n",
      "29 out of 30\n",
      "Learning rate set to 0.093544\n",
      "29 out of 30\n",
      "Learning rate set to 0.093544\n",
      "29 out of 30\n",
      "Learning rate set to 0.093544\n",
      "29 out of 30\n",
      "Learning rate set to 0.093544\n",
      "29 out of 30\n",
      "Learning rate set to 0.093544\n",
      "29 out of 30\n",
      "Learning rate set to 0.093544\n",
      "29 out of 30\n",
      "Learning rate set to 0.093544\n",
      "29 out of 30\n",
      "Wall time: 13min 4s\n"
     ]
    }
   ],
   "source": [
    "%%time\n",
    "\n",
    "cur_cat_features = [5]\n",
    "cat_feat = [0,1,2,3,4,8,9,10,11, 23, 21, 20, 19]\n",
    "cat = CatBoostClassifier(eval_metric='Accuracy',\n",
    "                         allow_writing_files=False,\n",
    "                         use_best_model=True)\n",
    "cat_feature_dict = {}\n",
    "for new_feature in cat_feat:\n",
    "    cat.fit(X_train, y_train, eval_set=(X_test, y_test), \n",
    "            cat_features=cur_cat_features,\n",
    "            use_best_model=True, silent=True)\n",
    "    \n",
    "    cat_feature_dict[str(cur_cat_features)] = [accuracy_score(cat.predict(X_test), y_test), \n",
    "                                                                   accuracy_score(cat.predict(X_train), y_train)]\n",
    "    print(\"Current feature list: {}\".format(str(cur_cat_features)))\n",
    "    cur_cat_features.append(new_feature)"
   ]
  },
  {
   "cell_type": "code",
   "execution_count": 106,
   "metadata": {},
   "outputs": [
    {
     "data": {
      "text/plain": [
       "<matplotlib.legend.Legend at 0x278e28ba438>"
      ]
     },
     "execution_count": 106,
     "metadata": {},
     "output_type": "execute_result"
    },
    {
     "data": {
      "image/png": "[encoded data removed]",
      "text/plain": [
       "<Figure size 1080x720 with 1 Axes>"
      ]
     },
     "metadata": {},
     "output_type": "display_data"
    }
   ],
   "source": [
    "fig, ax = plt.subplots(figsize=(15, 10))\n",
    "ax.plot(list(range(len(cat_feature_dict))), (np.array(list(cat_feature_dict.values())))[:, 0], color='red', label='test')\n",
    "ax.plot(list(range(len(cat_feature_dict))), (np.array(list(cat_feature_dict.values())))[:, 1], color='blue', label='train')\n",
    "ax.scatter(list(range(len(cat_feature_dict))), (np.array(list(cat_feature_dict.values())))[:, 0], color='red')\n",
    "ax.scatter(list(range(len(cat_feature_dict))), (np.array(list(cat_feature_dict.values())))[:, 1], color='blue')\n",
    "ax.set_xlabel('cat feature comb iteration')\n",
    "ax.set_ylabel('accuracy score')\n",
    "ax.set_title('Comparing different combinations of categorical features in the model')\n",
    "ax.legend()"
   ]
  },
  {
   "cell_type": "markdown",
   "metadata": {},
   "source": [
    "We can see a big overfitting if we treat many feature as categorical. Let's try to find the best combinations"
   ]
  },
  {
   "cell_type": "markdown",
   "metadata": {},
   "source": [
    "## Random cat features appending"
   ]
  },
  {
   "cell_type": "code",
   "execution_count": 109,
   "metadata": {},
   "outputs": [
    {
     "name": "stdout",
     "output_type": "stream",
     "text": [
      "Learning rate set to 0.093544\n",
      "0 out of 100\n",
      "Learning rate set to 0.093544\n",
      "1 out of 100\n",
      "Learning rate set to 0.093544\n",
      "2 out of 100\n",
      "Learning rate set to 0.093544\n",
      "3 out of 100\n",
      "Learning rate set to 0.093544\n",
      "4 out of 100\n",
      "Learning rate set to 0.093544\n",
      "5 out of 100\n",
      "Learning rate set to 0.093544\n",
      "6 out of 100\n",
      "Learning rate set to 0.093544\n",
      "7 out of 100\n",
      "Learning rate set to 0.093544\n",
      "8 out of 100\n",
      "Learning rate set to 0.093544\n",
      "9 out of 100\n",
      "Learning rate set to 0.093544\n",
      "10 out of 100\n",
      "Learning rate set to 0.093544\n",
      "11 out of 100\n",
      "Learning rate set to 0.093544\n",
      "12 out of 100\n",
      "Learning rate set to 0.093544\n",
      "13 out of 100\n",
      "Learning rate set to 0.093544\n",
      "14 out of 100\n",
      "Learning rate set to 0.093544\n",
      "15 out of 100\n",
      "Learning rate set to 0.093544\n",
      "16 out of 100\n",
      "Learning rate set to 0.093544\n",
      "17 out of 100\n",
      "Learning rate set to 0.093544\n",
      "18 out of 100\n",
      "Learning rate set to 0.093544\n",
      "19 out of 100\n",
      "Learning rate set to 0.093544\n",
      "20 out of 100\n",
      "Learning rate set to 0.093544\n",
      "21 out of 100\n",
      "Learning rate set to 0.093544\n",
      "22 out of 100\n",
      "Learning rate set to 0.093544\n",
      "23 out of 100\n",
      "Learning rate set to 0.093544\n",
      "24 out of 100\n",
      "Learning rate set to 0.093544\n",
      "25 out of 100\n",
      "Learning rate set to 0.093544\n",
      "26 out of 100\n",
      "Learning rate set to 0.093544\n",
      "27 out of 100\n",
      "Learning rate set to 0.093544\n",
      "28 out of 100\n",
      "Learning rate set to 0.093544\n",
      "29 out of 100\n",
      "Learning rate set to 0.093544\n",
      "30 out of 100\n",
      "Learning rate set to 0.093544\n",
      "31 out of 100\n",
      "Learning rate set to 0.093544\n",
      "32 out of 100\n",
      "Learning rate set to 0.093544\n",
      "33 out of 100\n",
      "Learning rate set to 0.093544\n",
      "34 out of 100\n",
      "Learning rate set to 0.093544\n",
      "35 out of 100\n",
      "Learning rate set to 0.093544\n",
      "36 out of 100\n",
      "Learning rate set to 0.093544\n",
      "37 out of 100\n",
      "Learning rate set to 0.093544\n",
      "38 out of 100\n",
      "Learning rate set to 0.093544\n",
      "39 out of 100\n",
      "Learning rate set to 0.093544\n",
      "40 out of 100\n",
      "Learning rate set to 0.093544\n",
      "41 out of 100\n",
      "Learning rate set to 0.093544\n",
      "42 out of 100\n",
      "Learning rate set to 0.093544\n",
      "43 out of 100\n",
      "Learning rate set to 0.093544\n",
      "44 out of 100\n",
      "Learning rate set to 0.093544\n",
      "45 out of 100\n",
      "Learning rate set to 0.093544\n",
      "46 out of 100\n",
      "Learning rate set to 0.093544\n",
      "47 out of 100\n",
      "Learning rate set to 0.093544\n",
      "48 out of 100\n",
      "Learning rate set to 0.093544\n",
      "49 out of 100\n",
      "Learning rate set to 0.093544\n",
      "50 out of 100\n",
      "Learning rate set to 0.093544\n",
      "51 out of 100\n",
      "Learning rate set to 0.093544\n",
      "52 out of 100\n",
      "Learning rate set to 0.093544\n",
      "53 out of 100\n",
      "Learning rate set to 0.093544\n",
      "54 out of 100\n",
      "Learning rate set to 0.093544\n",
      "55 out of 100\n",
      "Learning rate set to 0.093544\n",
      "56 out of 100\n",
      "Learning rate set to 0.093544\n",
      "57 out of 100\n",
      "Learning rate set to 0.093544\n",
      "58 out of 100\n",
      "Learning rate set to 0.093544\n",
      "59 out of 100\n",
      "Learning rate set to 0.093544\n",
      "60 out of 100\n",
      "Learning rate set to 0.093544\n",
      "61 out of 100\n",
      "Learning rate set to 0.093544\n",
      "62 out of 100\n",
      "Learning rate set to 0.093544\n",
      "63 out of 100\n",
      "Learning rate set to 0.093544\n",
      "64 out of 100\n",
      "Learning rate set to 0.093544\n",
      "65 out of 100\n",
      "Learning rate set to 0.093544\n",
      "66 out of 100\n",
      "Learning rate set to 0.093544\n",
      "67 out of 100\n",
      "Learning rate set to 0.093544\n",
      "68 out of 100\n",
      "Learning rate set to 0.093544\n",
      "69 out of 100\n",
      "Learning rate set to 0.093544\n",
      "70 out of 100\n",
      "Learning rate set to 0.093544\n",
      "71 out of 100\n",
      "Learning rate set to 0.093544\n",
      "72 out of 100\n",
      "Learning rate set to 0.093544\n",
      "73 out of 100\n",
      "Learning rate set to 0.093544\n",
      "74 out of 100\n",
      "Learning rate set to 0.093544\n",
      "75 out of 100\n",
      "Learning rate set to 0.093544\n",
      "76 out of 100\n",
      "Learning rate set to 0.093544\n",
      "77 out of 100\n",
      "Learning rate set to 0.093544\n",
      "78 out of 100\n",
      "Learning rate set to 0.093544\n",
      "79 out of 100\n",
      "Learning rate set to 0.093544\n",
      "80 out of 100\n",
      "Learning rate set to 0.093544\n",
      "81 out of 100\n",
      "Learning rate set to 0.093544\n",
      "82 out of 100\n",
      "Learning rate set to 0.093544\n",
      "83 out of 100\n",
      "Learning rate set to 0.093544\n",
      "84 out of 100\n",
      "Learning rate set to 0.093544\n",
      "85 out of 100\n",
      "Learning rate set to 0.093544\n",
      "86 out of 100\n",
      "Learning rate set to 0.093544\n",
      "87 out of 100\n",
      "Learning rate set to 0.093544\n",
      "88 out of 100\n",
      "Learning rate set to 0.093544\n",
      "89 out of 100\n",
      "Learning rate set to 0.093544\n",
      "90 out of 100\n",
      "Learning rate set to 0.093544\n",
      "91 out of 100\n",
      "Learning rate set to 0.093544\n",
      "92 out of 100\n",
      "Learning rate set to 0.093544\n",
      "93 out of 100\n",
      "Learning rate set to 0.093544\n",
      "94 out of 100\n",
      "Learning rate set to 0.093544\n",
      "95 out of 100\n",
      "Learning rate set to 0.093544\n",
      "96 out of 100\n",
      "Learning rate set to 0.093544\n",
      "97 out of 100\n",
      "Learning rate set to 0.093544\n",
      "98 out of 100\n",
      "Learning rate set to 0.093544\n",
      "99 out of 100\n",
      "Wall time: 1h 49min 44s\n"
     ]
    }
   ],
   "source": [
    "%%time\n",
    "from numpy import random as rand\n",
    "\n",
    "num_iters = 100\n",
    "cat = CatBoostClassifier(eval_metric='Accuracy',\n",
    "                         allow_writing_files=False,\n",
    "                         use_best_model=True)\n",
    "cat_feature_dict = {}\n",
    "for i in range(num_iters):\n",
    "    random_num = rand.randint(len(cat_possible_combination))\n",
    "    cat.fit(X_train, y_train, eval_set=(X_test, y_test), \n",
    "            cat_features=list(cat_possible_combination[random_num]),\n",
    "            use_best_model=True, silent=True)\n",
    "    cat_feature_dict[str(cat_possible_combination[random_num])] = [accuracy_score(cat.predict(X_test), y_test), \n",
    "                                                                   accuracy_score(cat.predict(X_train), y_train)]\n",
    "    print(\"{} out of {}\".format(i, num_iters))"
   ]
  },
  {
   "cell_type": "code",
   "execution_count": 110,
   "metadata": {},
   "outputs": [
    {
     "data": {
      "text/plain": [
       "[('[0, 1, 2, 4, 8, 9, 10, 23, 21, 19, 5]',\n",
       "  [0.9365333333333333, 0.42133333333333334]),\n",
       " ('[1, 2, 3, 4, 9, 10, 11, 20, 19, 0, 5]',\n",
       "  [0.9338666666666666, 0.37493333333333334]),\n",
       " ('[1, 2, 4, 10, 23, 19, 0, 5]', [0.9322666666666667, 0.44106666666666666]),\n",
       " ('[1, 2, 3, 8, 10, 11, 23, 21, 0, 5]', [0.9296, 0.4149333333333333]),\n",
       " ('[1, 2, 3, 5, 10, 11, 20, 0]', [0.928, 0.44693333333333335]),\n",
       " ('[1, 2, 3, 4, 5, 8, 9, 0]', [0.928, 0.4298666666666667]),\n",
       " ('[1, 2, 5, 20, 19, 0]', [0.9274666666666667, 0.4232888888888889]),\n",
       " ('[0, 1, 2, 4, 5, 8, 9, 11, 21, 20, 19]',\n",
       "  [0.9269333333333334, 0.41955555555555557]),\n",
       " ('[0, 1, 2, 3, 8, 10, 23, 20, 5]', [0.9253333333333333, 0.4384]),\n",
       " ('[1, 2, 3, 4, 5, 23, 21, 19, 0]', [0.9248, 0.4369777777777778]),\n",
       " ('[1, 2, 5, 8, 9, 10, 23, 21, 20, 0]', [0.9248, 0.4033777777777778]),\n",
       " ('[1, 2, 5, 9, 20, 0]', [0.9242666666666667, 0.43822222222222224]),\n",
       " ('[0, 1, 2, 4, 8, 11, 20, 19, 5]', [0.9226666666666666, 0.44693333333333335]),\n",
       " ('[0, 1, 2, 5, 10, 20]', [0.9226666666666666, 0.42293333333333333]),\n",
       " ('[1, 2, 5, 11, 23, 19, 0]', [0.9226666666666666, 0.41955555555555557]),\n",
       " ('[0, 1, 2, 3, 9, 11, 20, 5]', [0.9226666666666666, 0.4151111111111111]),\n",
       " ('[0, 1, 2, 3, 4, 5, 8, 11, 23, 21]',\n",
       "  [0.9226666666666666, 0.3960888888888889]),\n",
       " ('[1, 2, 3, 5, 20, 0]', [0.9221333333333334, 0.4177777777777778]),\n",
       " ('[0, 1, 2, 3, 5, 8, 9, 23]', [0.9216, 0.4062222222222222]),\n",
       " ('[0, 1, 2, 4, 5, 8, 11, 21, 20]', [0.9216, 0.4023111111111111]),\n",
       " ('[1, 2, 5, 11, 23, 21, 19, 0]', [0.9210666666666667, 0.4593777777777778]),\n",
       " ('[2, 3, 8, 9, 11, 23, 21, 20, 19, 0, 5]',\n",
       "  [0.9205333333333333, 0.5164444444444445]),\n",
       " ('[0, 2, 5, 9, 10, 23, 21, 19]', [0.9205333333333333, 0.4517333333333333]),\n",
       " ('[1, 2, 5, 11, 23, 20, 19, 0]', [0.92, 0.42133333333333334]),\n",
       " ('[1, 2, 20, 0, 5]', [0.92, 0.41155555555555556]),\n",
       " ('[0, 1, 2, 5, 8, 11, 19]', [0.9194666666666667, 0.392]),\n",
       " ('[0, 2, 5, 10, 23, 21, 20, 19]', [0.9189333333333334, 0.5018666666666667]),\n",
       " ('[0, 1, 2, 3, 4, 8, 11, 23, 19, 5]', [0.9184, 0.4336]),\n",
       " ('[0, 1, 2, 11, 5]', [0.9178666666666667, 0.4512]),\n",
       " ('[2, 4, 5, 8, 9, 10, 23, 21, 20, 0]',\n",
       "  [0.9173333333333333, 0.4613333333333333]),\n",
       " ('[1, 2, 4, 5, 9, 23, 21, 20, 19, 0]', [0.9173333333333333, 0.4416]),\n",
       " ('[2, 3, 4, 5, 9, 10, 23, 20, 19, 0]',\n",
       "  [0.9157333333333333, 0.4504888888888889]),\n",
       " ('[0, 2, 3, 4, 10, 11, 21, 19, 5]', [0.9152, 0.4670222222222222]),\n",
       " ('[2, 4, 9, 10, 20, 19, 0, 5]', [0.9152, 0.4497777777777778]),\n",
       " ('[2, 4, 5, 8, 9, 10, 11, 19, 0]', [0.9152, 0.41902222222222224]),\n",
       " ('[2, 4, 8, 9, 10, 0, 5]', [0.9130666666666667, 0.43448888888888887]),\n",
       " ('[0, 2, 3, 9, 10, 23, 21, 20, 5]',\n",
       "  [0.9098666666666667, 0.46755555555555556]),\n",
       " ('[0, 2, 3, 4, 9, 11, 23, 20, 5]', [0.9093333333333333, 0.43964444444444445]),\n",
       " ('[2, 3, 4, 9, 10, 11, 23, 21, 20, 0, 5]', [0.9088, 0.44266666666666665]),\n",
       " ('[2, 3, 4, 8, 9, 10, 11, 21, 0, 5]',\n",
       "  [0.9082666666666667, 0.4376888888888889]),\n",
       " ('[2, 5, 10, 11, 21, 20, 0]', [0.9061333333333333, 0.42133333333333334]),\n",
       " ('[0, 2, 3, 4, 8, 9, 23, 20, 19, 5]', [0.9056, 0.44035555555555556]),\n",
       " ('[2, 4, 23, 21, 0, 5]', [0.9056, 0.4298666666666667]),\n",
       " ('[2, 3, 5, 8, 10, 11, 21, 20, 0]',\n",
       "  [0.9050666666666667, 0.45813333333333334]),\n",
       " ('[0, 2, 4, 5, 8, 9, 11, 20]', [0.904, 0.45564444444444446]),\n",
       " ('[2, 10, 11, 21, 0, 5]', [0.9008, 0.4524444444444444]),\n",
       " ('[0, 2, 5, 11, 19]', [0.8976, 0.44995555555555555]),\n",
       " ('[0, 2, 4, 11, 23, 19, 5]', [0.896, 0.4526222222222222]),\n",
       " ('[1, 4, 5, 9, 10, 11, 21, 0]', [0.8917333333333334, 0.49262222222222224]),\n",
       " ('[0, 2, 3, 4, 23, 5]', [0.8917333333333334, 0.4590222222222222]),\n",
       " ('[1, 3, 4, 9, 10, 21, 0, 5]', [0.8885333333333333, 0.6424888888888889]),\n",
       " ('[1, 5, 8, 9, 10, 11, 23, 21, 20, 19, 0]', [0.888, 0.5432888888888889]),\n",
       " ('[1, 4, 8, 9, 10, 11, 21, 19, 0, 5]',\n",
       "  [0.8874666666666666, 0.49475555555555556]),\n",
       " ('[1, 3, 5, 9, 10, 11, 23, 0]', [0.8853333333333333, 0.5571555555555555]),\n",
       " ('[1, 4, 8, 9, 20, 0, 5]', [0.8853333333333333, 0.49315555555555557]),\n",
       " ('[1, 3, 5, 8, 9, 10, 11, 23, 21, 0]', [0.8842666666666666, 0.4976]),\n",
       " ('[1, 3, 5, 9, 10, 20, 0]', [0.8810666666666667, 0.4983111111111111]),\n",
       " ('[0, 1, 3, 4, 8, 9, 11, 21, 20, 5]',\n",
       "  [0.8805333333333333, 0.5560888888888889]),\n",
       " ('[0, 1, 3, 4, 5, 8, 9, 19]', [0.88, 0.5722666666666667]),\n",
       " ('[1, 5, 9, 11, 23, 20, 0]', [0.88, 0.568]),\n",
       " ('[0, 1, 8, 10, 11, 23, 20, 19, 5]',\n",
       "  [0.8773333333333333, 0.5160888888888889]),\n",
       " ('[0, 1, 3, 4, 5, 8, 10, 23, 20, 19]', [0.8768, 0.4456888888888889]),\n",
       " ('[0, 1, 3, 4, 8, 9, 21, 20, 19, 5]',\n",
       "  [0.8762666666666666, 0.4744888888888889]),\n",
       " ('[1, 3, 8, 9, 11, 21, 19, 0, 5]', [0.8757333333333334, 0.5648]),\n",
       " ('[0, 4, 8, 9, 10, 21, 20, 19, 5]', [0.8730666666666667, 0.7182222222222222]),\n",
       " ('[0, 1, 8, 10, 11, 23, 20, 5]', [0.8730666666666667, 0.5269333333333334]),\n",
       " ('[1, 3, 5, 8, 10, 11, 23, 19, 0]', [0.8730666666666667, 0.4817777777777778]),\n",
       " ('[1, 3, 4, 5, 8, 11, 23, 21, 19, 0]',\n",
       "  [0.8714666666666666, 0.49777777777777776]),\n",
       " ('[1, 3, 4, 5, 11, 23, 21, 19, 0]', [0.8682666666666666, 0.5032888888888889]),\n",
       " ('[1, 3, 4, 8, 10, 21, 0, 5]', [0.8682666666666666, 0.5008]),\n",
       " ('[1, 3, 11, 23, 0, 5]', [0.8672, 0.46613333333333334]),\n",
       " ('[1, 3, 5, 23, 20, 0]', [0.8672, 0.44622222222222224]),\n",
       " ('[0, 1, 5, 9, 11, 20, 19]', [0.8650666666666667, 0.5018666666666667]),\n",
       " ('[1, 4, 5, 8, 21, 20, 19, 0]', [0.8645333333333334, 0.5326222222222222]),\n",
       " ('[0, 1, 3, 23, 21, 5]', [0.8629333333333333, 0.46115555555555554]),\n",
       " ('[0, 1, 4, 5, 23]', [0.8624, 0.4716444444444444]),\n",
       " ('[0, 1, 3, 8, 21, 20, 19, 5]', [0.8618666666666667, 0.5125333333333333]),\n",
       " ('[3, 5, 8, 9, 10, 11, 23, 21, 20, 19, 0]',\n",
       "  [0.8602666666666666, 0.7633777777777778]),\n",
       " ('[1, 8, 21, 20, 0, 5]', [0.8549333333333333, 0.5064888888888889]),\n",
       " ('[0, 1, 5, 8, 11, 21, 20, 19]', [0.8544, 0.5592888888888888]),\n",
       " ('[0, 1, 3, 5, 10, 11, 21, 19]', [0.8544, 0.5461333333333334]),\n",
       " ('[0, 1, 3, 4, 5, 8, 20, 19]', [0.8538666666666667, 0.46986666666666665]),\n",
       " ('[3, 4, 5, 8, 11, 21, 20, 19, 0]', [0.8426666666666667, 0.7781333333333333]),\n",
       " ('[4, 5, 8, 9, 10, 20, 19, 0]', [0.7952, 0.7616]),\n",
       " ('[0, 8, 9, 10, 11, 23, 21, 5]', [0.7898666666666667, 0.8405333333333334]),\n",
       " ('[4, 8, 9, 10, 23, 19, 0, 5]', [0.7882666666666667, 0.7331555555555556]),\n",
       " ('[0, 3, 5, 8, 9, 10, 21, 20]', [0.7877333333333333, 0.8464]),\n",
       " ('[3, 5, 8, 9, 10, 11, 21, 20, 0]', [0.7829333333333334, 0.7843555555555556]),\n",
       " ('[4, 5, 9, 23, 21, 20, 0]', [0.7824, 0.8999111111111111]),\n",
       " ('[4, 8, 9, 23, 21, 20, 0, 5]', [0.7797333333333333, 0.8272]),\n",
       " ('[3, 5, 9, 10, 11, 23, 21, 0]', [0.7781333333333333, 0.8577777777777778]),\n",
       " ('[0, 3, 4, 5, 9, 10, 23, 20]', [0.7744, 0.7582222222222222]),\n",
       " ('[0, 3, 8, 9, 10, 11, 21, 5]', [0.7728, 0.8192]),\n",
       " ('[0, 5, 9, 11, 23, 20, 19]', [0.7589333333333333, 0.8330666666666666]),\n",
       " ('[4, 5, 11, 23, 21, 0]', [0.7504, 0.7822222222222223]),\n",
       " ('[8, 9, 10, 0, 5]', [0.7402666666666666, 0.8531555555555556]),\n",
       " ('[3, 5, 8, 9, 21, 0]', [0.7402666666666666, 0.8030222222222222]),\n",
       " ('[0, 3, 4, 8, 11, 20, 19, 5]', [0.7322666666666666, 0.8291555555555555]),\n",
       " ('[4, 10, 19, 0, 5]', [0.7173333333333334, 0.8195555555555556])]"
      ]
     },
     "execution_count": 110,
     "metadata": {},
     "output_type": "execute_result"
    }
   ],
   "source": [
    "import operator\n",
    "sorted(cat_feature_dict.items(), key=operator.itemgetter(1), reverse=True)"
   ]
  },
  {
   "cell_type": "code",
   "execution_count": 111,
   "metadata": {},
   "outputs": [
    {
     "data": {
      "text/plain": [
       "<matplotlib.legend.Legend at 0x278e2aae6a0>"
      ]
     },
     "execution_count": 111,
     "metadata": {},
     "output_type": "execute_result"
    },
    {
     "data": {
      "image/png": "[encoded data removed]",
      "text/plain": [
       "<Figure size 1080x720 with 1 Axes>"
      ]
     },
     "metadata": {},
     "output_type": "display_data"
    }
   ],
   "source": [
    "fig, ax = plt.subplots(figsize=(15, 10))\n",
    "ax.plot(list(range(len(cat_feature_dict))), (np.array(list(cat_feature_dict.values())))[:, 0], color='red', label='test')\n",
    "ax.plot(list(range(len(cat_feature_dict))), (np.array(list(cat_feature_dict.values())))[:, 1], color='blue', label='train')\n",
    "ax.scatter(list(range(len(cat_feature_dict))), (np.array(list(cat_feature_dict.values())))[:, 0], color='red')\n",
    "ax.scatter(list(range(len(cat_feature_dict))), (np.array(list(cat_feature_dict.values())))[:, 1], color='blue')\n",
    "ax.set_xlabel('cat feature comb iteration')\n",
    "ax.set_ylabel('accuracy score')\n",
    "ax.set_title('Comparing different combinations of categorical features in the model')\n",
    "ax.legend()"
   ]
  },
  {
   "cell_type": "markdown",
   "metadata": {},
   "source": [
    "We can see a strong overfitting. Let's see only valid values (train acc > test acc)"
   ]
  },
  {
   "cell_type": "code",
   "execution_count": 57,
   "metadata": {},
   "outputs": [
    {
     "name": "stdout",
     "output_type": "stream",
     "text": [
      "('[3, 5, 9, 10, 11, 23, 21, 0]', [0.7781333333333333, 0.8577777777777778])\n",
      "('[3, 5, 8, 9, 21, 0]', [0.7402666666666666, 0.8030222222222222])\n",
      "('[0, 5, 9, 11, 23, 20, 19]', [0.7589333333333333, 0.8330666666666666])\n",
      "('[0, 3, 8, 9, 10, 11, 21, 5]', [0.7728, 0.8192])\n",
      "('[0, 3, 4, 8, 11, 20, 19, 5]', [0.7322666666666666, 0.8291555555555555])\n",
      "('[0, 3, 5, 8, 9, 10, 21, 20]', [0.7877333333333333, 0.8464])\n",
      "('[4, 5, 9, 23, 21, 20, 0]', [0.7824, 0.8999111111111111])\n",
      "('[4, 5, 11, 23, 21, 0]', [0.7504, 0.7822222222222223])\n",
      "('[0, 8, 9, 10, 11, 23, 21, 5]', [0.7898666666666667, 0.8405333333333334])\n",
      "('[3, 5, 8, 9, 10, 11, 21, 20, 0]', [0.7829333333333334, 0.7843555555555556])\n",
      "('[8, 9, 10, 0, 5]', [0.7402666666666666, 0.8531555555555556])\n",
      "('[4, 10, 19, 0, 5]', [0.7173333333333334, 0.8195555555555556])\n",
      "('[4, 8, 9, 23, 21, 20, 0, 5]', [0.7797333333333333, 0.8272])\n"
     ]
    }
   ],
   "source": [
    "for key, value in cat_feature_dict.items():\n",
    "    if value[1] >= value[0]:\n",
    "        print(key, value)"
   ]
  },
  {
   "cell_type": "code",
   "execution_count": 117,
   "metadata": {},
   "outputs": [
    {
     "name": "stdout",
     "output_type": "stream",
     "text": [
      "Learning rate set to 0.093544\n"
     ]
    },
    {
     "data": {
      "text/plain": [
       "<catboost.core.CatBoostClassifier at 0x278e2a9c1d0>"
      ]
     },
     "execution_count": 117,
     "metadata": {},
     "output_type": "execute_result"
    }
   ],
   "source": [
    "cat.fit(X_train, y_train, eval_set=(X_test, y_test), \n",
    "            cat_features=[0, 3, 5, 10, 11, 21, 19],\n",
    "            use_best_model=True, silent=True)"
   ]
  },
  {
   "cell_type": "code",
   "execution_count": 115,
   "metadata": {},
   "outputs": [
    {
     "name": "stdout",
     "output_type": "stream",
     "text": [
      "0.7829333333333334\n",
      "0.8060444444444445\n"
     ]
    }
   ],
   "source": [
    "print(accuracy_score(cat.predict(X_test), y_test))\n",
    "print(accuracy_score(cat.predict(X_train), y_train))"
   ]
  },
  {
   "cell_type": "markdown",
   "metadata": {},
   "source": [
    "We can see that results with 0.9+ test accuracy are completely overfitted on test data\n",
    "\n",
    "###  Our best result so far is:\n",
    "\n",
    "#### test: 0.7915\n",
    "\n",
    "#### train: 0.827"
   ]
  },
  {
   "cell_type": "markdown",
   "metadata": {},
   "source": [
    "# Cross validation with K-folds"
   ]
  },
  {
   "cell_type": "code",
   "execution_count": 7,
   "metadata": {},
   "outputs": [],
   "source": [
    "cat_feature_dict = {}\n",
    "\n",
    "items = [('[0, 1, 2, 4, 8, 9, 10, 23, 21, 19, 5]',\n",
    "  [0.9365333333333333, 0.42133333333333334]),\n",
    " ('[1, 2, 3, 4, 9, 10, 11, 20, 19, 0, 5]',\n",
    "  [0.9338666666666666, 0.37493333333333334]),\n",
    " ('[1, 2, 4, 10, 23, 19, 0, 5]', [0.9322666666666667, 0.44106666666666666]),\n",
    " ('[1, 2, 3, 8, 10, 11, 23, 21, 0, 5]', [0.9296, 0.4149333333333333]),\n",
    " ('[1, 2, 3, 5, 10, 11, 20, 0]', [0.928, 0.44693333333333335]),\n",
    " ('[1, 2, 3, 4, 5, 8, 9, 0]', [0.928, 0.4298666666666667]),\n",
    " ('[1, 2, 5, 20, 19, 0]', [0.9274666666666667, 0.4232888888888889]),\n",
    " ('[0, 1, 2, 4, 5, 8, 9, 11, 21, 20, 19]',\n",
    "  [0.9269333333333334, 0.41955555555555557]),\n",
    " ('[0, 1, 2, 3, 8, 10, 23, 20, 5]', [0.9253333333333333, 0.4384]),\n",
    " ('[1, 2, 3, 4, 5, 23, 21, 19, 0]', [0.9248, 0.4369777777777778]),\n",
    " ('[1, 2, 5, 8, 9, 10, 23, 21, 20, 0]', [0.9248, 0.4033777777777778]),\n",
    " ('[1, 2, 5, 9, 20, 0]', [0.9242666666666667, 0.43822222222222224]),\n",
    " ('[0, 1, 2, 4, 8, 11, 20, 19, 5]', [0.9226666666666666, 0.44693333333333335]),\n",
    " ('[0, 1, 2, 5, 10, 20]', [0.9226666666666666, 0.42293333333333333]),\n",
    " ('[1, 2, 5, 11, 23, 19, 0]', [0.9226666666666666, 0.41955555555555557]),\n",
    " ('[0, 1, 2, 3, 9, 11, 20, 5]', [0.9226666666666666, 0.4151111111111111]),\n",
    " ('[0, 1, 2, 3, 4, 5, 8, 11, 23, 21]',\n",
    "  [0.9226666666666666, 0.3960888888888889]),\n",
    " ('[1, 2, 3, 5, 20, 0]', [0.9221333333333334, 0.4177777777777778]),\n",
    " ('[0, 1, 2, 3, 5, 8, 9, 23]', [0.9216, 0.4062222222222222]),\n",
    " ('[0, 1, 2, 4, 5, 8, 11, 21, 20]', [0.9216, 0.4023111111111111]),\n",
    " ('[1, 2, 5, 11, 23, 21, 19, 0]', [0.9210666666666667, 0.4593777777777778]),\n",
    " ('[2, 3, 8, 9, 11, 23, 21, 20, 19, 0, 5]',\n",
    "  [0.9205333333333333, 0.5164444444444445]),\n",
    " ('[0, 2, 5, 9, 10, 23, 21, 19]', [0.9205333333333333, 0.4517333333333333]),\n",
    " ('[1, 2, 5, 11, 23, 20, 19, 0]', [0.92, 0.42133333333333334]),\n",
    " ('[1, 2, 20, 0, 5]', [0.92, 0.41155555555555556]),\n",
    " ('[0, 1, 2, 5, 8, 11, 19]', [0.9194666666666667, 0.392]),\n",
    " ('[0, 2, 5, 10, 23, 21, 20, 19]', [0.9189333333333334, 0.5018666666666667]),\n",
    " ('[0, 1, 2, 3, 4, 8, 11, 23, 19, 5]', [0.9184, 0.4336]),\n",
    " ('[0, 1, 2, 11, 5]', [0.9178666666666667, 0.4512]),\n",
    " ('[2, 4, 5, 8, 9, 10, 23, 21, 20, 0]',\n",
    "  [0.9173333333333333, 0.4613333333333333]),\n",
    " ('[1, 2, 4, 5, 9, 23, 21, 20, 19, 0]', [0.9173333333333333, 0.4416]),\n",
    " ('[2, 3, 4, 5, 9, 10, 23, 20, 19, 0]',\n",
    "  [0.9157333333333333, 0.4504888888888889]),\n",
    " ('[0, 2, 3, 4, 10, 11, 21, 19, 5]', [0.9152, 0.4670222222222222]),\n",
    " ('[2, 4, 9, 10, 20, 19, 0, 5]', [0.9152, 0.4497777777777778]),\n",
    " ('[2, 4, 5, 8, 9, 10, 11, 19, 0]', [0.9152, 0.41902222222222224]),\n",
    " ('[2, 4, 8, 9, 10, 0, 5]', [0.9130666666666667, 0.43448888888888887]),\n",
    " ('[0, 2, 3, 9, 10, 23, 21, 20, 5]',\n",
    "  [0.9098666666666667, 0.46755555555555556]),\n",
    " ('[0, 2, 3, 4, 9, 11, 23, 20, 5]', [0.9093333333333333, 0.43964444444444445]),\n",
    " ('[2, 3, 4, 9, 10, 11, 23, 21, 20, 0, 5]', [0.9088, 0.44266666666666665]),\n",
    " ('[2, 3, 4, 8, 9, 10, 11, 21, 0, 5]',\n",
    "  [0.9082666666666667, 0.4376888888888889]),\n",
    " ('[2, 5, 10, 11, 21, 20, 0]', [0.9061333333333333, 0.42133333333333334]),\n",
    " ('[0, 2, 3, 4, 8, 9, 23, 20, 19, 5]', [0.9056, 0.44035555555555556]),\n",
    " ('[2, 4, 23, 21, 0, 5]', [0.9056, 0.4298666666666667]),\n",
    " ('[2, 3, 5, 8, 10, 11, 21, 20, 0]',\n",
    "  [0.9050666666666667, 0.45813333333333334]),\n",
    " ('[0, 2, 4, 5, 8, 9, 11, 20]', [0.904, 0.45564444444444446]),\n",
    " ('[2, 10, 11, 21, 0, 5]', [0.9008, 0.4524444444444444]),\n",
    " ('[0, 2, 5, 11, 19]', [0.8976, 0.44995555555555555]),\n",
    " ('[0, 2, 4, 11, 23, 19, 5]', [0.896, 0.4526222222222222]),\n",
    " ('[1, 4, 5, 9, 10, 11, 21, 0]', [0.8917333333333334, 0.49262222222222224]),\n",
    " ('[0, 2, 3, 4, 23, 5]', [0.8917333333333334, 0.4590222222222222]),\n",
    " ('[1, 3, 4, 9, 10, 21, 0, 5]', [0.8885333333333333, 0.6424888888888889]),\n",
    " ('[1, 5, 8, 9, 10, 11, 23, 21, 20, 19, 0]', [0.888, 0.5432888888888889]),\n",
    " ('[1, 4, 8, 9, 10, 11, 21, 19, 0, 5]',\n",
    "  [0.8874666666666666, 0.49475555555555556]),\n",
    " ('[1, 3, 5, 9, 10, 11, 23, 0]', [0.8853333333333333, 0.5571555555555555]),\n",
    " ('[1, 4, 8, 9, 20, 0, 5]', [0.8853333333333333, 0.49315555555555557]),\n",
    " ('[1, 3, 5, 8, 9, 10, 11, 23, 21, 0]', [0.8842666666666666, 0.4976]),\n",
    " ('[1, 3, 5, 9, 10, 20, 0]', [0.8810666666666667, 0.4983111111111111]),\n",
    " ('[0, 1, 3, 4, 8, 9, 11, 21, 20, 5]',\n",
    "  [0.8805333333333333, 0.5560888888888889]),\n",
    " ('[0, 1, 3, 4, 5, 8, 9, 19]', [0.88, 0.5722666666666667]),\n",
    " ('[1, 5, 9, 11, 23, 20, 0]', [0.88, 0.568]),\n",
    " ('[0, 1, 8, 10, 11, 23, 20, 19, 5]',\n",
    "  [0.8773333333333333, 0.5160888888888889]),\n",
    " ('[0, 1, 3, 4, 5, 8, 10, 23, 20, 19]', [0.8768, 0.4456888888888889]),\n",
    " ('[0, 1, 3, 4, 8, 9, 21, 20, 19, 5]',\n",
    "  [0.8762666666666666, 0.4744888888888889]),\n",
    " ('[1, 3, 8, 9, 11, 21, 19, 0, 5]', [0.8757333333333334, 0.5648]),\n",
    " ('[0, 4, 8, 9, 10, 21, 20, 19, 5]', [0.8730666666666667, 0.7182222222222222]),\n",
    " ('[0, 1, 8, 10, 11, 23, 20, 5]', [0.8730666666666667, 0.5269333333333334]),\n",
    " ('[1, 3, 5, 8, 10, 11, 23, 19, 0]', [0.8730666666666667, 0.4817777777777778]),\n",
    " ('[1, 3, 4, 5, 8, 11, 23, 21, 19, 0]',\n",
    "  [0.8714666666666666, 0.49777777777777776]),\n",
    " ('[1, 3, 4, 5, 11, 23, 21, 19, 0]', [0.8682666666666666, 0.5032888888888889]),\n",
    " ('[1, 3, 4, 8, 10, 21, 0, 5]', [0.8682666666666666, 0.5008]),\n",
    " ('[1, 3, 11, 23, 0, 5]', [0.8672, 0.46613333333333334]),\n",
    " ('[1, 3, 5, 23, 20, 0]', [0.8672, 0.44622222222222224]),\n",
    " ('[0, 1, 5, 9, 11, 20, 19]', [0.8650666666666667, 0.5018666666666667]),\n",
    " ('[1, 4, 5, 8, 21, 20, 19, 0]', [0.8645333333333334, 0.5326222222222222]),\n",
    " ('[0, 1, 3, 23, 21, 5]', [0.8629333333333333, 0.46115555555555554]),\n",
    " ('[0, 1, 4, 5, 23]', [0.8624, 0.4716444444444444]),\n",
    " ('[0, 1, 3, 8, 21, 20, 19, 5]', [0.8618666666666667, 0.5125333333333333]),\n",
    " ('[3, 5, 8, 9, 10, 11, 23, 21, 20, 19, 0]',\n",
    "  [0.8602666666666666, 0.7633777777777778]),\n",
    " ('[1, 8, 21, 20, 0, 5]', [0.8549333333333333, 0.5064888888888889]),\n",
    " ('[0, 1, 5, 8, 11, 21, 20, 19]', [0.8544, 0.5592888888888888]),\n",
    " ('[0, 1, 3, 5, 10, 11, 21, 19]', [0.8544, 0.5461333333333334]),\n",
    " ('[0, 1, 3, 4, 5, 8, 20, 19]', [0.8538666666666667, 0.46986666666666665]),\n",
    " ('[3, 4, 5, 8, 11, 21, 20, 19, 0]', [0.8426666666666667, 0.7781333333333333]),\n",
    " ('[4, 5, 8, 9, 10, 20, 19, 0]', [0.7952, 0.7616]),\n",
    " ('[0, 8, 9, 10, 11, 23, 21, 5]', [0.7898666666666667, 0.8405333333333334]),\n",
    " ('[4, 8, 9, 10, 23, 19, 0, 5]', [0.7882666666666667, 0.7331555555555556]),\n",
    " ('[0, 3, 5, 8, 9, 10, 21, 20]', [0.7877333333333333, 0.8464]),\n",
    " ('[3, 5, 8, 9, 10, 11, 21, 20, 0]', [0.7829333333333334, 0.7843555555555556]),\n",
    " ('[4, 5, 9, 23, 21, 20, 0]', [0.7824, 0.8999111111111111]),\n",
    " ('[4, 8, 9, 23, 21, 20, 0, 5]', [0.7797333333333333, 0.8272]),\n",
    " ('[3, 5, 9, 10, 11, 23, 21, 0]', [0.7781333333333333, 0.8577777777777778]),\n",
    " ('[0, 3, 4, 5, 9, 10, 23, 20]', [0.7744, 0.7582222222222222]),\n",
    " ('[0, 3, 8, 9, 10, 11, 21, 5]', [0.7728, 0.8192]),\n",
    " ('[0, 5, 9, 11, 23, 20, 19]', [0.7589333333333333, 0.8330666666666666]),\n",
    " ('[4, 5, 11, 23, 21, 0]', [0.7504, 0.7822222222222223]),\n",
    " ('[8, 9, 10, 0, 5]', [0.7402666666666666, 0.8531555555555556]),\n",
    " ('[3, 5, 8, 9, 21, 0]', [0.7402666666666666, 0.8030222222222222]),\n",
    " ('[0, 3, 4, 8, 11, 20, 19, 5]', [0.7322666666666666, 0.8291555555555555]),\n",
    " ('[4, 10, 19, 0, 5]', [0.7173333333333334, 0.8195555555555556])]\n",
    "\n",
    "for k, v in items:\n",
    "    cat_feature_dict[k] = v"
   ]
  },
  {
   "cell_type": "code",
   "execution_count": 6,
   "metadata": {},
   "outputs": [],
   "source": [
    "from sklearn.model_selection import KFold\n",
    "from tqdm import tqdm_notebook\n",
    "\n",
    "X = pd.concat((X_train, X_test)).as_matrix()\n",
    "y = pd.concat((y_train, y_test)).as_matrix()\n",
    "\n",
    "kfold = KFold(n_splits=3, shuffle=True, random_state=42)"
   ]
  },
  {
   "cell_type": "code",
   "execution_count": 8,
   "metadata": {},
   "outputs": [],
   "source": [
    "itms = filter(lambda x: abs(x[1][0] - x[1][1]) < 0.1, cat_feature_dict.items())"
   ]
  },
  {
   "cell_type": "code",
   "execution_count": 38,
   "metadata": {},
   "outputs": [
    {
     "data": {
      "application/vnd.jupyter.widget-view+json": {
       "model_id": "a35f4478b856492c86cf055b8e883a2c"
      }
     },
     "metadata": {},
     "output_type": "display_data"
    },
    {
     "name": "stdout",
     "output_type": "stream",
     "text": [
      "\n"
     ]
    },
    {
     "ename": "TypeError",
     "evalue": "eval() arg 1 must be a string or code object",
     "output_type": "error",
     "traceback": [
      "\u001b[0;31m---------------------------------------------------------------------------\u001b[0m",
      "\u001b[0;31mTypeError\u001b[0m                                 Traceback (most recent call last)",
      "\u001b[0;32m<ipython-input-38-961dfc8bec8b>\u001b[0m in \u001b[0;36m<module>\u001b[0;34m()\u001b[0m\n\u001b[1;32m      1\u001b[0m \u001b[0;32mfor\u001b[0m \u001b[0mhyp\u001b[0m \u001b[0;32min\u001b[0m \u001b[0mtqdm_notebook\u001b[0m\u001b[0;34m(\u001b[0m\u001b[0;34m[\u001b[0m\u001b[0;34m[\u001b[0m\u001b[0;36m8\u001b[0m\u001b[0;34m,\u001b[0m \u001b[0;36m11\u001b[0m\u001b[0;34m,\u001b[0m \u001b[0;36m4\u001b[0m\u001b[0;34m,\u001b[0m \u001b[0;36m0\u001b[0m\u001b[0;34m,\u001b[0m \u001b[0;36m10\u001b[0m\u001b[0;34m,\u001b[0m \u001b[0;36m1\u001b[0m\u001b[0;34m]\u001b[0m\u001b[0;34m]\u001b[0m\u001b[0;34m)\u001b[0m\u001b[0;34m:\u001b[0m\u001b[0;31m#itms):\u001b[0m\u001b[0;34m\u001b[0m\u001b[0m\n\u001b[0;32m----> 2\u001b[0;31m     \u001b[0mcat_f\u001b[0m \u001b[0;34m=\u001b[0m \u001b[0meval\u001b[0m\u001b[0;34m(\u001b[0m\u001b[0mhyp\u001b[0m\u001b[0;34m[\u001b[0m\u001b[0;36m0\u001b[0m\u001b[0;34m]\u001b[0m\u001b[0;34m)\u001b[0m\u001b[0;34m\u001b[0m\u001b[0m\n\u001b[0m\u001b[1;32m      3\u001b[0m     cat = CatBoostClassifier(eval_metric='Accuracy',\n\u001b[1;32m      4\u001b[0m                      \u001b[0mallow_writing_files\u001b[0m\u001b[0;34m=\u001b[0m\u001b[0mFalse\u001b[0m\u001b[0;34m,\u001b[0m\u001b[0;34m\u001b[0m\u001b[0m\n\u001b[1;32m      5\u001b[0m                      verbose=False)\n",
      "\u001b[0;31mTypeError\u001b[0m: eval() arg 1 must be a string or code object"
     ]
    }
   ],
   "source": [
    "for hyp in tqdm_notebook(itms):\n",
    "    cat_f = eval(hyp[0])\n",
    "    cat = CatBoostClassifier(eval_metric='Accuracy',\n",
    "                     allow_writing_files=False,\n",
    "                     verbose=False)\n",
    "    \n",
    "    train_scores = []\n",
    "    test_scores = []\n",
    "\n",
    "    for tr_ind, tst_ind in tqdm_notebook(kfold.split(X, y)):\n",
    "        # get split sample\n",
    "        x_tr, y_tr = X[tr_ind], y[tr_ind]\n",
    "        x_tst, y_tst = X[tst_ind], y[tst_ind]\n",
    "        \n",
    "        cat.fit(x_tr, y_tr, cat_features=cat_f)\n",
    "         \n",
    "        train_score = cat.score(x_tr, y_tr)\n",
    "        test_score = cat.score(x_tst, y_tst)\n",
    "        train_scores.append(train_score)\n",
    "        test_scores.append(test_score)\n",
    "        \n",
    "        \n",
    "    cv_train = np.mean(train_scores)\n",
    "    cv_test = np.mean(test_scores)\n",
    "    cat_feature_dict[hyp[0]].extend([cv_test, cv_train])\n",
    "        "
   ]
  },
  {
   "cell_type": "code",
   "execution_count": 151,
   "metadata": {},
   "outputs": [],
   "source": [
    "import pickle as pkl\n",
    "output = open('dict.pkl', 'wb')\n",
    "pkl.dump(cat_feature_dict, output)\n",
    "output.close()"
   ]
  },
  {
   "cell_type": "code",
   "execution_count": 144,
   "metadata": {},
   "outputs": [],
   "source": [
    "scores = np.array(map(lambda x: x[1], filter(lambda x: len(x[1])>2, cat_feature_dict.items())))"
   ]
  },
  {
   "cell_type": "code",
   "execution_count": 145,
   "metadata": {},
   "outputs": [
    {
     "data": {
      "text/plain": [
       "0.69496888888888886"
      ]
     },
     "execution_count": 145,
     "metadata": {},
     "output_type": "execute_result"
    }
   ],
   "source": [
    "np.mean(scores[:, 2])"
   ]
  },
  {
   "cell_type": "code",
   "execution_count": 146,
   "metadata": {},
   "outputs": [
    {
     "data": {
      "text/plain": [
       "<matplotlib.legend.Legend at 0x7f4c8e934a50>"
      ]
     },
     "execution_count": 146,
     "metadata": {},
     "output_type": "execute_result"
    },
    {
     "data": {
      "image/png": "[encoded data removed]",
      "text/plain": [
       "<matplotlib.figure.Figure at 0x7f4c8f2c5d10>"
      ]
     },
     "metadata": {},
     "output_type": "display_data"
    }
   ],
   "source": [
    "fig, ax = plt.subplots(figsize=(15, 10))\n",
    "ax.plot(range(len(scores)), scores[:, 0], color='red', label='test')\n",
    "ax.plot(range(len(scores)), scores[:, 1], color='blue', label='train')\n",
    "ax.plot(range(len(scores)), scores[:, 2], color='orange', label='cv_test')\n",
    "ax.plot(range(len(scores)), scores[:, 3], color='purple', label='cv_train')\n",
    "ax.scatter(range(len(scores)), scores[:, 0], color='red')\n",
    "ax.scatter(range(len(scores)), scores[:, 1], color='blue')\n",
    "ax.scatter(range(len(scores)), scores[:, 2], color='orange')\n",
    "ax.scatter(range(len(scores)), scores[:, 3], color='purple')\n",
    "\n",
    "ax.set_xlabel('hypothesis')\n",
    "ax.set_ylabel('accuracy score')\n",
    "ax.set_title('Comparing different combinations of categorical features in the model')\n",
    "ax.legend()"
   ]
  },
  {
   "cell_type": "code",
   "execution_count": 11,
   "metadata": {},
   "outputs": [],
   "source": [
    "import xgboost\n",
    "from xgboost import XGBClassifier\n",
    "from sklearn.model_selection import GridSearchCV\n",
    "xgb = XGBClassifier(silent=True)\n",
    "params = {'max_depth': (2, 3, 4), 'n_estimators': (60, 80, 100)}\n",
    "gs = GridSearchCV(xgb, params, n_jobs=4, verbose=True)"
   ]
  },
  {
   "cell_type": "code",
   "execution_count": 24,
   "metadata": {},
   "outputs": [],
   "source": [
    "def get_ohe_matrix(arr):\n",
    "    arr = arr.astype('int32')\n",
    "    ohe_matrix = np.zeros((arr.size, arr.max()+1))\n",
    "    ohe_matrix[np.arange(arr.size), arr] = 1\n",
    "    return ohe_matrix"
   ]
  },
  {
   "cell_type": "code",
   "execution_count": 39,
   "metadata": {},
   "outputs": [],
   "source": [
    "from sklearn.preprocessing import LabelEncoder\n",
    "\n",
    "def convert_data(data, hyp, return_les=False):\n",
    "    assert type(hyp) == list\n",
    "    ohe_matricies = []\n",
    "    les = [] # label encoder list for each feature in hyp\n",
    "    for feature_i in hyp:\n",
    "        le_f = LabelEncoder()\n",
    "        ohe_matrix = get_ohe_matrix(le.fit_transform(data[:, feature_i]))\n",
    "        les.append(le_f)\n",
    "        ohe_matricies.append(ohe_matrix)\n",
    "        \n",
    "    ohe_matricies = np.concatenate(ohe_matricies, axis=1)\n",
    "    converted_data = data[:, [x for x in range(data.shape[1]) if x not in hyp]] \n",
    "    converted_data = np.concatenate((converted_data, ohe_matricies), axis=1)\n",
    "    assert converted_data.shape[0] == data.shape[0]\n",
    "    \n",
    "    if return_les:\n",
    "        return converted_data, les\n",
    "    \n",
    "    return converted_data"
   ]
  },
  {
   "cell_type": "code",
   "execution_count": null,
   "metadata": {},
   "outputs": [],
   "source": [
    "_X = convert_data(X, [8, 4, 23, 10, 9, 0, 3])"
   ]
  },
  {
   "cell_type": "code",
   "execution_count": 143,
   "metadata": {},
   "outputs": [
    {
     "data": {
      "application/vnd.jupyter.widget-view+json": {
       "model_id": "6437c1e34bcc4606bf573ae594931bd2"
      }
     },
     "metadata": {},
     "output_type": "display_data"
    },
    {
     "name": "stdout",
     "output_type": "stream",
     "text": [
      "\n"
     ]
    },
    {
     "ename": "NameError",
     "evalue": "name 'XGBClassifier' is not defined",
     "output_type": "error",
     "traceback": [
      "\u001b[0;31m---------------------------------------------------------------------------\u001b[0m",
      "\u001b[0;31mNameError\u001b[0m                                 Traceback (most recent call last)",
      "\u001b[0;32m<ipython-input-143-e5a9ae2e995f>\u001b[0m in \u001b[0;36m<module>\u001b[0;34m()\u001b[0m\n\u001b[1;32m      5\u001b[0m \u001b[0;32mfor\u001b[0m \u001b[0mhyp\u001b[0m \u001b[0;32min\u001b[0m \u001b[0mtqdm_notebook\u001b[0m\u001b[0;34m(\u001b[0m\u001b[0mitms\u001b[0m\u001b[0;34m)\u001b[0m\u001b[0;34m:\u001b[0m\u001b[0;34m\u001b[0m\u001b[0m\n\u001b[1;32m      6\u001b[0m     \u001b[0mcat_f\u001b[0m \u001b[0;34m=\u001b[0m \u001b[0meval\u001b[0m\u001b[0;34m(\u001b[0m\u001b[0mhyp\u001b[0m\u001b[0;34m[\u001b[0m\u001b[0;36m0\u001b[0m\u001b[0;34m]\u001b[0m\u001b[0;34m)\u001b[0m\u001b[0;34m\u001b[0m\u001b[0m\n\u001b[0;32m----> 7\u001b[0;31m     \u001b[0mcat\u001b[0m \u001b[0;34m=\u001b[0m \u001b[0mXGBClassifier\u001b[0m\u001b[0;34m(\u001b[0m\u001b[0;34m)\u001b[0m\u001b[0;34m\u001b[0m\u001b[0m\n\u001b[0m\u001b[1;32m      8\u001b[0m     \u001b[0mdata\u001b[0m \u001b[0;34m=\u001b[0m \u001b[0mX\u001b[0m\u001b[0;34m.\u001b[0m\u001b[0mcopy\u001b[0m\u001b[0;34m(\u001b[0m\u001b[0;34m)\u001b[0m\u001b[0;34m\u001b[0m\u001b[0m\n\u001b[1;32m      9\u001b[0m     \u001b[0mdata\u001b[0m \u001b[0;34m=\u001b[0m \u001b[0mconvert_data\u001b[0m\u001b[0;34m(\u001b[0m\u001b[0mdata\u001b[0m\u001b[0;34m,\u001b[0m \u001b[0mcat_f\u001b[0m\u001b[0;34m)\u001b[0m\u001b[0;34m\u001b[0m\u001b[0m\n",
      "\u001b[0;31mNameError\u001b[0m: name 'XGBClassifier' is not defined"
     ]
    }
   ],
   "source": [
    "# UNFINISHED (xgb training)\n",
    "/\n",
    "\n",
    "\n",
    "for hyp in tqdm_notebook(itms):\n",
    "    cat_f = eval(hyp[0])\n",
    "    cat = XGBClassifier()\n",
    "    data = X.copy()\n",
    "    data = convert_data(data, cat_f)\n",
    "    break\n",
    "    \n",
    "    for tr_ind, tst_ind in tqdm_notebook(kfold.split(X, y)):\n",
    "        # get split sample\n",
    "        x_tr, y_tr = data[tr_ind], y[tr_ind]\n",
    "        x_tst, y_tst = data[tst_ind], y[tst_ind]\n",
    "\n",
    "        \n",
    "        \n",
    "        xgb.fit(x_tr, y_tr)\n",
    "         \n",
    "        train_score = cat.score(x_tr, y_tr)\n",
    "        test_score = cat.score(x_tst, y_tst)\n",
    "        train_scores.append(train_score)\n",
    "        test_scores.append(test_score)\n",
    "        \n",
    "        \n",
    "    cv_train = np.mean(train_scores)\n",
    "    cv_test = np.mean(test_scores)\n",
    "    train_scores = []\n",
    "    test_scores = []\n",
    "    cat_feature_dict[hyp[0]].extend([cv_test, cv_train])"
   ]
  },
  {
   "cell_type": "markdown",
   "metadata": {},
   "source": [
    "# Smart Feature Selection"
   ]
  },
  {
   "cell_type": "code",
   "execution_count": 6,
   "metadata": {},
   "outputs": [],
   "source": [
    "from sklearn.model_selection import KFold\n",
    "from tqdm import tqdm_notebook, tqdm\n",
    "\n",
    "X = pd.concat((X_train, X_test)).as_matrix()\n",
    "y = pd.concat((y_train, y_test)).as_matrix()"
   ]
  },
  {
   "cell_type": "code",
   "execution_count": 14,
   "metadata": {},
   "outputs": [],
   "source": [
    "class BaseSelector(object):\n",
    "    def __init__(self, estimator, data, cat_features, fit_params={}, kf_splits=2):\n",
    "        assert type(data) == tuple and len(data) == 2, 'invalid data type'\n",
    "        assert data[0].ndim == 2 and data[1].ndim == 1, \"invalid data shape\"\n",
    "        \n",
    "        self.estimator = estimator\n",
    "        self.model = estimator\n",
    "        self.fit_params = fit_params\n",
    "        self.X, self.y = data[0], data[1]\n",
    "        self.cat_features = cat_features\n",
    "        self.n_features = len(cat_features)\n",
    "        self.kfold = KFold(n_splits=kf_splits, shuffle=True)"
   ]
  },
  {
   "cell_type": "code",
   "execution_count": 52,
   "metadata": {},
   "outputs": [],
   "source": [
    "class AddDel(BaseSelector):\n",
    "    \"\"\"ADD-DEL cyclic implementation\"\"\"\n",
    "    def __init__(self, estimator, data, cat_features, *args):\n",
    "        super(AddDel, self).__init__(estimator, data, cat_features, *args)\n",
    "        self.feature_selection_list = []\n",
    "        self.history_scores = []\n",
    "        self.best_score = 0\n",
    "    \n",
    "    def _add(self):\n",
    "        # ADD cycle\n",
    "        while True:\n",
    "            f_scores = np.zeros(self.n_features) # average score for each feature (concerning kfold)\n",
    "            for i, feature in tqdm_notebook(enumerate(self.cat_features)):  #range(self.n_features):\n",
    "                if feature not in self.feature_selection_list:\n",
    "                    # score on already selected features + current feature (i)\n",
    "                    self.feature_selection_list.append(feature)\n",
    "                    #f_score = self._train_est_cv(self.X[:, self.feature_selection_list], self.y) \n",
    "                    f_score = self._train_est_cv(self.X, self.y, cat_features=self.feature_selection_list) \n",
    "                    self.feature_selection_list.remove(feature)\n",
    "                    f_scores[i] = f_score\n",
    "\n",
    "            best_feature_ind = np.argmax(f_scores)\n",
    "            best_feature = self.cat_features[best_feature_ind]\n",
    "            add_score = f_scores[best_feature_ind]\n",
    "            \n",
    "            if self.best_score < add_score:\n",
    "                self.feature_selection_list.append(best_feature)\n",
    "                self.best_score = add_score\n",
    "                self.history_scores.append(self.best_score)\n",
    "                print best_feature, 'feature added', 'val score:', self.best_score\n",
    "            else:\n",
    "                break\n",
    "        \n",
    "    def _del(self):\n",
    "        # DEL cycle\n",
    "        while True:\n",
    "            f_scores = np.zeros(self.n_features)\n",
    "            for i, feature in tqdm_notebook(enumerate(self.feature_selection_list)):\n",
    "                ind = self.feature_selection_list.index(feature)\n",
    "                self.feature_selection_list.pop(ind)\n",
    "                # train without i-th feature\n",
    "                # f_score = self._train_est_cv(self.X[:, self.feature_selection_list, self.y]) \n",
    "                f_score = self._train_est_cv(self.X, self.y, cat_features=self.feature_selection_list)\n",
    "                self.feature_selection_list.insert(ind, feature)\n",
    "                f_scores[i] = f_score\n",
    "                \n",
    "            worst_feature_ind = np.argmax(f_scores)\n",
    "            worst_feature = self.cat_features[worst_feature_ind]\n",
    "            del_score = f_scores[worst_feature_ind]\n",
    "            \n",
    "            if self.best_score < del_score:\n",
    "                self.feature_selection_list.remove(worst_feature)\n",
    "                self.best_score = del_score\n",
    "                self.history_scores.append(self.best_score)\n",
    "                print worst_feature, 'feature removed', 'val score:', self.best_score\n",
    "            else:\n",
    "                break\n",
    "    \n",
    "    def _train_est_cv(self, X, y, cat_features):\n",
    "        test_scores = []\n",
    "        train_scores = []\n",
    "        for tr_ind, tst_ind in self.kfold.split(X, y):\n",
    "            # get split sample\n",
    "            x_tr, y_tr = X[tr_ind], y[tr_ind]\n",
    "            x_tst, y_tst = X[tst_ind], y[tst_ind]\n",
    "\n",
    "            # self.model.fit(Pool(x_tr, y_tr, cat_features=cat_features), **self.fit_params)\n",
    "            self.model.fit(x_tr, y_tr, categorical_feature=cat_features, **self.fit_params)\n",
    "            test_scores.append(self.estimator.score(x_tst, y_tst))\n",
    "            train_scores.append(self.estimator.score(x_tr, y_tr))\n",
    "        \n",
    "        self.model = self.estimator # reset model\n",
    "        return np.mean(test_scores) * (1 - np.abs(np.mean(train_scores) - np.mean(test_scores)))\n",
    "    \n",
    "    def fit(self, n_train_iters):\n",
    "        for i in range(n_train_iters):\n",
    "            # add cycle\n",
    "            print 'ADD iter'\n",
    "            self._add()\n",
    "            print 'val score:', self.best_score\n",
    "            print 'selected_cat_features:', self.feature_selection_list \n",
    "            \n",
    "            print 'DEL iter'\n",
    "            self._del()\n",
    "            print 'val score:', self.best_score\n",
    "            print 'selected_cat_features:', self.feature_selection_list "
   ]
  },
  {
   "cell_type": "code",
   "execution_count": 53,
   "metadata": {},
   "outputs": [],
   "source": [
    "class NeuralSelector(BaseSelector):\n",
    "    def __init__(self, estimator, data, cat_features, *args):\n",
    "        super(NeuralSelector, self).__init__(estimator, data, cat_features, *args)\n",
    "        \n",
    "    \n",
    "    def _build_graph(self):\n",
    "        pass\n",
    "    "
   ]
  },
  {
   "cell_type": "code",
   "execution_count": 54,
   "metadata": {},
   "outputs": [],
   "source": [
    "cat = CatBoostClassifier(iterations=400, verbose=False)\n",
    "lgb = LGBMClassifier(n_estimators=20, max_depth=2)\n",
    "\n",
    "add_del = AddDel(estimator=lgb, data=(X, y), cat_features=[0, 1, 2, 3, 4, 8, 9, 10, 11, 23, 21, 20, 19])"
   ]
  },
  {
   "cell_type": "code",
   "execution_count": 55,
   "metadata": {},
   "outputs": [],
   "source": [
    "import warnings\n",
    "warnings.filterwarnings('ignore')"
   ]
  },
  {
   "cell_type": "code",
   "execution_count": 58,
   "metadata": {},
   "outputs": [
    {
     "name": "stdout",
     "output_type": "stream",
     "text": [
      "ADD iter\n"
     ]
    },
    {
     "data": {
      "application/vnd.jupyter.widget-view+json": {
       "model_id": "a522fe49f6564d3a9348e4044a923b49"
      }
     },
     "metadata": {},
     "output_type": "display_data"
    },
    {
     "name": "stdout",
     "output_type": "stream",
     "text": [
      "\n",
      "val score: 0.656615733333\n",
      "selected_cat_features: [4, 0]\n",
      "DEL iter\n"
     ]
    },
    {
     "data": {
      "application/vnd.jupyter.widget-view+json": {
       "model_id": "1a6163b5683c485aa1152dd7e631834f"
      }
     },
     "metadata": {},
     "output_type": "display_data"
    },
    {
     "name": "stdout",
     "output_type": "stream",
     "text": [
      "\n",
      "val score: 0.656615733333\n",
      "selected_cat_features: [4, 0]\n",
      "CPU times: user 3.29 s, sys: 30 ms, total: 3.32 s\n",
      "Wall time: 937 ms\n"
     ]
    }
   ],
   "source": [
    "%%time\n",
    "add_del.fit(1)"
   ]
  },
  {
   "cell_type": "code",
   "execution_count": 62,
   "metadata": {},
   "outputs": [
    {
     "data": {
      "text/plain": [
       "<matplotlib.text.Text at 0x7fa07b961250>"
      ]
     },
     "execution_count": 62,
     "metadata": {},
     "output_type": "execute_result"
    },
    {
     "data": {
      "image/png": "[encoded data removed]",
      "text/plain": [
       "<matplotlib.figure.Figure at 0x7fa07b995a90>"
      ]
     },
     "metadata": {},
     "output_type": "display_data"
    }
   ],
   "source": [
    "fig, ax = plt.subplots(figsize=(15, 10))\n",
    "ax.plot(add_del.history_scores, color='red')\n",
    "ax.set_xlabel('update N')\n",
    "ax.set_ylabel('val accuracy score')"
   ]
  },
  {
   "cell_type": "code",
   "execution_count": 7,
   "metadata": {},
   "outputs": [
    {
     "data": {
      "application/vnd.jupyter.widget-view+json": {
       "model_id": "6b9e5de46e584f21b1fd0533fad6beed"
      }
     },
     "metadata": {},
     "output_type": "display_data"
    },
    {
     "name": "stdout",
     "output_type": "stream",
     "text": [
      "\n"
     ]
    },
    {
     "data": {
      "text/plain": [
       "(0.73986666666666656, 0.78933333333333344)"
      ]
     },
     "execution_count": 7,
     "metadata": {},
     "output_type": "execute_result"
    }
   ],
   "source": [
    "cat = CatBoostClassifier(1200, depth=8, verbose=False)\n",
    "test_scores = []\n",
    "train_scores = []\n",
    "for tr_ind, tst_ind in tqdm_notebook(kfold.split(X, y)):\n",
    "    # get split sample\n",
    "    x_tr, y_tr = X[tr_ind], y[tr_ind]\n",
    "    x_tst, y_tst = X[tst_ind], y[tst_ind]\n",
    "    \n",
    "    cat.fit(x_tr, y_tr, cat_features=[8, 4, 23, 10, 0, 9, 3])\n",
    "    train_score = cat.score(x_tr, y_tr)\n",
    "    test_score = cat.score(x_tst, y_tst)\n",
    "    train_scores.append(train_score)\n",
    "    test_scores.append(test_score)\n",
    "    \n",
    "    \n",
    "np.mean(test_scores), np.mean(train_scores)"
   ]
  },
  {
   "cell_type": "code",
   "execution_count": 12,
   "metadata": {},
   "outputs": [
    {
     "name": "stdout",
     "output_type": "stream",
     "text": [
      "train score: 0.789333333333 \n",
      "test score: 0.739866666667\n"
     ]
    }
   ],
   "source": [
    "print 'train score:', np.mean(train_scores), '\\ntest score:',np.mean(test_scores)"
   ]
  },
  {
   "cell_type": "code",
   "execution_count": 72,
   "metadata": {},
   "outputs": [
    {
     "data": {
      "text/plain": [
       "<catboost.core._CatBoostBase at 0x7f6da41a0b90>"
      ]
     },
     "execution_count": 72,
     "metadata": {},
     "output_type": "execute_result"
    }
   ],
   "source": [
    "cat = CatBoostClassifier(1200, depth=10, verbose=False)\n",
    "X_train, X_test, y_train, y_test = split(X, y, test_size=0.3, shuffle=True, random_state=42)\n",
    "cat.fit(X_train, y_train, use_best_model=True, eval_set=(X_test, y_test), cat_features=[8, 4, 23, 10, 0, 9, 3])"
   ]
  },
  {
   "cell_type": "code",
   "execution_count": 73,
   "metadata": {},
   "outputs": [
    {
     "data": {
      "text/plain": [
       "(0.82285714285714284, 0.78844444444444439)"
      ]
     },
     "execution_count": 73,
     "metadata": {},
     "output_type": "execute_result"
    }
   ],
   "source": [
    "cat.score(X_train, y_train), cat.score(X_test, y_test)"
   ]
  },
  {
   "cell_type": "code",
   "execution_count": 79,
   "metadata": {},
   "outputs": [
    {
     "data": {
      "text/plain": [
       "(1500, 62)"
      ]
     },
     "execution_count": 79,
     "metadata": {},
     "output_type": "execute_result"
    }
   ],
   "source": [
    "X_train, X_test, y_train, y_test = split(_X, y, test_size=0.2, shuffle=True, random_state=42)"
   ]
  },
  {
   "cell_type": "code",
   "execution_count": 44,
   "metadata": {},
   "outputs": [],
   "source": [
    "lgb = LGBMClassifier(n_estimators=20, max_depth=2)"
   ]
  },
  {
   "cell_type": "code",
   "execution_count": 45,
   "metadata": {},
   "outputs": [
    {
     "data": {
      "text/plain": [
       "LGBMClassifier(boosting_type='gbdt', class_weight=None, colsample_bytree=1.0,\n",
       "        learning_rate=0.1, max_depth=2, min_child_samples=20,\n",
       "        min_child_weight=0.001, min_split_gain=0.0, n_estimators=20,\n",
       "        n_jobs=-1, num_leaves=31, objective=None, random_state=None,\n",
       "        reg_alpha=0.0, reg_lambda=0.0, silent=True, subsample=1.0,\n",
       "        subsample_for_bin=200000, subsample_freq=0)"
      ]
     },
     "execution_count": 45,
     "metadata": {},
     "output_type": "execute_result"
    }
   ],
   "source": [
    "lgb.fit(X_train, y_train, categorical_feature=[20, 8, 11])"
   ]
  },
  {
   "cell_type": "code",
   "execution_count": 46,
   "metadata": {},
   "outputs": [
    {
     "data": {
      "text/plain": [
       "(0.64733333333333332, 0.66866666666666663)"
      ]
     },
     "execution_count": 46,
     "metadata": {},
     "output_type": "execute_result"
    }
   ],
   "source": [
    "lgb.score(X_test, y_test), lgb.score(X_train, y_train)"
   ]
  },
  {
   "cell_type": "code",
   "execution_count": null,
   "metadata": {},
   "outputs": [],
   "source": []
  }
 ],
 "metadata": {
  "kernelspec": {
   "display_name": "Python 2",
   "language": "python",
   "name": "python2"
  },
  "language_info": {
   "codemirror_mode": {
    "name": "ipython",
    "version": 2
   },
   "file_extension": ".py",
   "mimetype": "text/x-python",
   "name": "python",
   "nbconvert_exporter": "python",
   "pygments_lexer": "ipython2",
   "version": "2.7.14"
  }
 },
 "nbformat": 4,
 "nbformat_minor": 2
}
